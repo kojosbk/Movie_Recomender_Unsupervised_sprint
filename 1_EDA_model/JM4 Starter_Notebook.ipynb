{
 "cells": [
  {
   "cell_type": "markdown",
   "metadata": {},
   "source": [
    "<a id='Top'></a>\n",
    "# UNSUPERVISED CHALLENGE\n",
    "\n",
    "© Explore Data Science Academy\n",
    "\n",
    "---\n",
    "\n",
    "# Team JM4 Unsupervised Predict Notebook\n",
    "\n",
    "---\n",
    "<img src=\"img/predict bg.png\" align=\"left\">"
   ]
  },
  {
   "cell_type": "markdown",
   "metadata": {},
   "source": [
    "\n",
    "<a id=\"cont\"></a>\n",
    "\n",
    "## Table of Contents\n",
    "\n",
    "## <a href=#one>1. Introduction</a>\n",
    "\n",
    "* <a href=#problemstament>1.1 Problem Statement</a>\n",
    "\n",
    "* <a href=#po>1.2 Project Objectives</a>\n",
    "\n",
    "* <a href=#dotrain_eda>1.3 Data Overview</a>\n",
    "\n",
    "* <a href=#StartingaCometexperiment>1.4 Starting a Comet experiment</a>\n",
    "\n",
    "## <a href=#two>2. Import Necessary Libraries</a>\n",
    "\n",
    "## <a href=#three>3. Loading Datasets</a>\n",
    "\n",
    "* <a href=#three1>3.1 Set Pandas to enable viewing of all columns</a>\n",
    "\n",
    "* <a href=#three2>3.2 Check the \"Shape\" of the data-sets</a>\n",
    "\n",
    "* <a href=#three21>3.3 Use the \".column\" function to view the columns in our data set</a>\n",
    "\n",
    "## <a href=#four>4. Data Preprocessing (Cleaning)</a>\n",
    "\n",
    "* <a href=#four1>4.1 Identifying Missing Values</a>\n",
    "\n",
    "* <a href=#four2>4.2 Preprocessing the Dataset</a>\n",
    "\n",
    "<!-- * <a href=#four3>4.3 Most Common Words</a> -->\n",
    "\n",
    "## <a href=#five>5. Exploratory Data Analysis (EDA)</a>\n",
    "\n"
   ]
  },
  {
   "cell_type": "markdown",
   "metadata": {},
   "source": [
    " <a id=\"one\"></a>\n",
    "## 1. INTRODUCTION\n",
    "<a href=#cont>Back to Table of Contents</a>\n",
    "\n",
    "---\n",
    "    \n",
    "| ⚡ Description: Project Overview ⚡ |\n",
    "| :--------------------------- |\n",
    "| We will address the problem statement and objectives, as well as the classification of data aspects and a brief discussion of the Movie Recomender System in this part.|"
   ]
  },
  {
   "cell_type": "markdown",
   "metadata": {},
   "source": [
    "<a id=\"top\"></a>\n",
    "- Recommender systems are economically and socially essential in today's technologically advanced world for enabling people to make wise decisions about the information they consume on a daily basis. This is particularly true in the area of movie content suggestions, where clever algorithms may guide viewers toward excellent films among tens of thousands of possibilities.\n",
    "\n",
    "- We will build a recommendation system based on collaborative filtering or content that will be capable of effectively predicting how a user would rate a film they haven't yet seen based on their past preferences..\n",
    "\n",
    "- With users of the system being exposed to content they would like to watch or buy, the provision of an accurate and robust solution to this problem has enormous economic potential, creating income and platform loyalty.\n",
    "---\n",
    "\n"
   ]
  },
  {
   "cell_type": "markdown",
   "metadata": {},
   "source": [
    " <a id=\"problemstament\"></a> \n",
    " \n",
    "### 1.1 Problem Statement\n",
    "\n",
    "Our team has been charged with developing a collaborative filtering or content-based recommendation system that can precisely anticipate how a user would score a movie they haven't yet seen based on their prior preferences."
   ]
  },
  {
   "cell_type": "markdown",
   "metadata": {},
   "source": [
    "<a id=\"po\"></a>\n",
    "\n",
    "### 1.2 Project Objectives\n",
    "\n",
    "* examine the data provided, find any probable flaws, and clean the current data set\n",
    "\n",
    "* ascertain whether further characteristics may be included to improve the data set\n",
    "\n",
    "* create a model that can forecast how a consumer would evaluate a film\n",
    "\n",
    "* assess the best machine learning model's accuracy\n",
    "\n",
    "* using a user's previous choices to forecast with accuracy how they would evaluate a movie they haven't yet seen\n",
    "\n",
    "* Describe the model's inner workings to a non-technical audience."
   ]
  },
  {
   "cell_type": "markdown",
   "metadata": {},
   "source": [
    "<a id=\"dodf\"></a>\n",
    "\n",
    "### 1.3 Data Overview\n",
    "\n",
    "Millions of users of the online MovieLens movie recommendation service provided their 5-star ratings for this dataset, which comprises of several million ratings. In order to enhance the functionality of explicitly-based recommender systems, business and academic researchers have long used the MovieLens dataset. \n",
    "\n",
    "We'll be utilizing an enhanced, resampled, and unique version of the MovieLens dataset for this Predict in order to conduct a fair evaluation.\n",
    "\n",
    "#### I. Supplied Files\n",
    "* genome_scores.csv: a rating indicating how well movies match certain tag-related qualities.\n",
    "\n",
    "* genome_tags.csv: user-assigned tags for scores connected to the genome\n",
    "\n",
    "* imdb_data.csv: Using the links.csv file, more movie metadata is extracted from IMDB.\n",
    "\n",
    "* links.csv: File supplying a mapping between a related IMDB ID and TMDB ID and a MovieLens ID.\n",
    "\n",
    "* tags.csv: For each movie in the collection, a user-assigned number.\n",
    "\n",
    "* test.csv: The test split of the dataset. Contains user and movie IDs with no rating data.\n",
    "\n",
    "* train.csv: The dataset's training segment. Contains user and movie IDs and the ratings that go with them.\n",
    "\n",
    ">#### Additional Information\n",
    ">The below information is provided directly from the MovieLens dataset description files:\n",
    "\n",
    "### Ratings Data File Structure (train.csv)\n",
    "- The train.csv file contains all ratings. Following the header row, each line of this file contains one user's rating of one movie, in the following format:\n",
    "    - userId\n",
    "    - movieId\n",
    "    - rating\n",
    "    - timestamp\n",
    "\n",
    "- Within this file, the lines are arranged by userId first, then within user, by movieId.\n",
    "\n",
    "- A 5-star rating system is used, with half-star increments (0.5 stars - 5.0 stars).\n",
    "\n",
    "- Timestamps are seconds since midnight on January 1, 1970, Coordinated Universal Time (UTC).\n",
    "\n",
    "### Tags Data File Structure (tags.csv)\n",
    "- The file tags.csv contains all of the tags. After the header row, each line in this file indicates a tag a user has applied to a particular video, and it is formatted as follows:\n",
    "    - userId\n",
    "    - movieId\n",
    "    - tag\n",
    "    - timestamp\n",
    "\n",
    "- Within this file, the lines are arranged by userId first, then within user, by movieId.\n",
    "\n",
    "- User-generated metadata about movies is created using tags. Typically, each tag consists of a single word or brief sentence. Each user decides what a given tag means, is worth, and serves for.\n",
    "\n",
    "- Timestamps show seconds since midnight on January 1, 1970, Coordinated Universal Time (UTC).\n",
    "\n",
    "### Movies Data File Structure (movies.csv)\n",
    "- The movies.csv file contains movie-related data. Following the header row, each line in this file represents a single movie and is formatted as follows:\n",
    "    - movieId\n",
    "    - title\n",
    "    - genres\n",
    "\n",
    "- Genres are a pipe-separated list, and are selected from the following:\n",
    "    - Action\n",
    "    - Adventure\n",
    "    - Animation\n",
    "    - Children's\n",
    "    - Comedy\n",
    "    - Crime\n",
    "    - Documentary\n",
    "    - Drama\n",
    "    - Fantasy\n",
    "    - Film-Noir\n",
    "    - Horror\n",
    "    - Musical\n",
    "    - Mystery\n",
    "    - Romance\n",
    "    - Sci-Fi\n",
    "    - Thriller\n",
    "    - War\n",
    "    - Western\n",
    "    (no genres listed)\n",
    "\n",
    "### Links Data File Structure (links.csv)\n",
    "- The file links.csv contains identifiers that may be used to link to various sources of movie data. This file's lines after the header row represent individual movies and are formatted as follows:\n",
    "    - movieId\n",
    "    - imdbId\n",
    "    - tmdbId\n",
    "\n",
    "- movieId is the movie identification that https://movielens.org uses. For instance, https://movielens.org/movies/1 provides a link to the movie Toy Story.\n",
    "\n",
    "- The movie identification used by http://www.imdb.com is called imdbId. Toy Story, for instance, may be found at http://www.imdb.com/title/tt0114709.\n",
    "\n",
    "- tmdb\n",
    "\n",
    "- Id is the movie identification that https://www.themoviedb.org uses. Toy Story, for instance, may be found at https://www.themoviedb.org/movie/862.\n",
    "\n",
    "### Tag Genome (genome-scores.csv and genome-tags.csv)\n",
    "- As previously mentioned, the tag genome encodes the degree to which movies display specific characteristics that are denoted by tags (atmospheric, thought-provoking, realistic, etc.). Using a machine learning algorithm on user-generated content, such as tags, ratings, and textual reviews, the tag genome was calculated.\n",
    "- Two files make up the genome. Movie-tag relevance information is presented in the following way in the file genome-scores.csv:\n",
    "    - movieId\n",
    "    - tagId\n",
    "    - relevance\n",
    "- The tag descriptions for the tag IDs in the genome file are provided in the second file, genome-tags.csv, in the following format:\n",
    "    - tagId\n",
    "    - tag"
   ]
  },
  {
   "cell_type": "markdown",
   "metadata": {},
   "source": [
    "<a id=\"StartingaCometexperiment\"></a>\n",
    "\n",
    "### 1.4 Starting a Comet Experiment\n",
    "<img src=\"https://www.comet.ml/images/logo_comet_light.png\" width=\"350\" alt=\"Drawing\" style=\"width: 350px;\"/>\n",
    "\n",
    "- Comet offers data scientists and teams a self-hosted and cloud-based meta machine learning platform that enables tracking, comparing, explanatory, and model optimization.\n",
    "\n",
    "- Comet offers insights and data to construct stronger, more accurate AI models while enhancing productivity, collaboration, and visibility across teams. Comet is supported by thousands of users and several Fortune 100 firms.\n",
    "- Comet will be used by us to version control our research."
   ]
  },
  {
   "cell_type": "markdown",
   "metadata": {},
   "source": [
    "## COMET"
   ]
  },
  {
   "cell_type": "code",
   "execution_count": 1,
   "metadata": {},
   "outputs": [],
   "source": [
    "# pip install comet_ml"
   ]
  },
  {
   "cell_type": "code",
   "execution_count": 2,
   "metadata": {},
   "outputs": [],
   "source": [
    "# Import comet_ml at the top of your file\n",
    "\n",
    "from comet_ml import Experiment"
   ]
  },
  {
   "cell_type": "code",
   "execution_count": 3,
   "metadata": {},
   "outputs": [],
   "source": [
    "# # Template to reate an experiment with your api key and details specific to your personal comet\n",
    "# experiment = Experiment(\n",
    "#     api_key=\"api_key\",\n",
    "#     project_name=\"climate-change-sentiment-analysis\",\n",
    "#     workspace=\"work_space\",\n",
    "# )\n",
    "\n",
    "# Create an experiment with your api key"
   ]
  },
  {
   "cell_type": "markdown",
   "metadata": {},
   "source": [
    " <a id=\"two\"></a>\n",
    "## 2. IMPORT NECESSARY LIBRARIES\n",
    "<a href=#cont>Back to Table of Contents</a>\n",
    "\n",
    "---\n",
    "    \n",
    "| ⚡ Description: Import libraries to be used in analysis and modelling ⚡ |\n",
    "| :--------------------------- |"
   ]
  },
  {
   "cell_type": "code",
   "execution_count": 4,
   "metadata": {},
   "outputs": [],
   "source": [
    "# pip install libraries that fails to import\n",
    "\n",
    "# pip install \"package name\""
   ]
  },
  {
   "cell_type": "code",
   "execution_count": 395,
   "metadata": {},
   "outputs": [],
   "source": [
    "# import necessary libraries\n",
    "\n",
    "import numpy as np\n",
    "import pandas as pd\n",
    "\n",
    "import matplotlib.pyplot as plt\n",
    "%matplotlib inline\n",
    "from matplotlib.colors import ListedColormap\n",
    "import seaborn as sns\n",
    "import re\n",
    "import string\n",
    "from wordcloud import WordCloud, STOPWORDS, ImageColorGenerator\n",
    "from plotly import graph_objs as go\n",
    "import plotly.express as px\n",
    "from collections import Counter\n",
    "from varname import nameof\n",
    "from PIL import Image\n",
    "import pickle\n",
    "from prettytable import PrettyTable\n",
    "from astropy.table import Table, Column\n",
    "from copy import deepcopy\n",
    "\n",
    "from gensim.models import Word2Vec\n",
    "from scipy.sparse import csr_matrix\n",
    "from sklearn.feature_extraction.text import CountVectorizer, TfidfTransformer, TfidfVectorizer\n",
    "from sklearn.decomposition import TruncatedSVD\n",
    "from sklearn.model_selection import cross_val_score, train_test_split, GridSearchCV\n",
    "from sklearn.preprocessing import StandardScaler, MaxAbsScaler, MinMaxScaler, LabelEncoder\n",
    "from sklearn.datasets import make_moons, make_circles, make_classification\n",
    "from sklearn.linear_model import LogisticRegression\n",
    "from sklearn.neighbors import KNeighborsClassifier, NearestNeighbors\n",
    "from sklearn.svm import SVC\n",
    "from sklearn.discriminant_analysis import LinearDiscriminantAnalysis, QuadraticDiscriminantAnalysis\n",
    "from sklearn.tree import DecisionTreeClassifier\n",
    "from sklearn.ensemble import RandomForestClassifier, AdaBoostClassifier\n",
    "from sklearn.metrics import accuracy_score, roc_auc_score, recall_score, precision_score, f1_score, confusion_matrix, classification_report\n",
    "from sklearn.metrics.pairwise import cosine_similarity\n",
    "from sklearn.utils import resample\n",
    "from sklearn.svm import LinearSVC\n",
    "from sklearn.pipeline import Pipeline\n",
    "from sklearn.naive_bayes import MultinomialNB\n",
    "import nltk\n",
    "from nltk.tokenize import word_tokenize, TreebankWordTokenizer\n",
    "from nltk.stem import WordNetLemmatizer\n",
    "from nltk import SnowballStemmer, PorterStemmer, LancasterStemmer\n",
    "from nltk.corpus import stopwords\n",
    "from nltk.util import ngrams\n",
    "\n",
    "import time\n",
    "\n",
    "# set plot style\n",
    "\n",
    "sns.set()\n",
    "\n",
    "# suppress cell warnings\n",
    "\n",
    "# import warnings\n",
    "# warnings.filterwarnings(\"ignore\")"
   ]
  },
  {
   "cell_type": "code",
   "execution_count": 368,
   "metadata": {},
   "outputs": [],
   "source": [
    "# set output options for all categories\n",
    "\n",
    "pd.set_option(\"max_colwidth\", 500)\n",
    "\n",
    "plt.rcParams[\"figure.figsize\"] = (10, 7)"
   ]
  },
  {
   "cell_type": "markdown",
   "metadata": {},
   "source": [
    " <a id=\"three\"></a>\n",
    "## 3. LOADING DATASETS\n",
    "<a href=#cont>Back to Table of Contents</a>\n",
    "\n",
    "---\n",
    "    \n",
    "| ⚡ Description: Loading data into DataFrame ⚡ |\n",
    "| :--------------------------- |"
   ]
  },
  {
   "cell_type": "code",
   "execution_count": 3,
   "metadata": {},
   "outputs": [],
   "source": [
    "train = pd.read_csv(\"data/train.csv\")\n",
    "test = pd.read_csv(\"data/test.csv\")\n",
    "genome_scores = pd.read_csv(\"data/genome_scores.csv\")\n",
    "genome_tags = pd.read_csv(\"data/genome_tags.csv\")\n",
    "imdb_data = pd.read_csv(\"data/imdb_data.csv\")\n",
    "links = pd.read_csv(\"data/links.csv\")\n",
    "movies = pd.read_csv(\"data/movies.csv\")\n",
    "tags = pd.read_csv(\"data/tags.csv\")"
   ]
  },
  {
   "cell_type": "code",
   "execution_count": 8,
   "metadata": {},
   "outputs": [
    {
     "data": {
      "text/html": [
       "<div>\n",
       "<style scoped>\n",
       "    .dataframe tbody tr th:only-of-type {\n",
       "        vertical-align: middle;\n",
       "    }\n",
       "\n",
       "    .dataframe tbody tr th {\n",
       "        vertical-align: top;\n",
       "    }\n",
       "\n",
       "    .dataframe thead th {\n",
       "        text-align: right;\n",
       "    }\n",
       "</style>\n",
       "<table border=\"1\" class=\"dataframe\">\n",
       "  <thead>\n",
       "    <tr style=\"text-align: right;\">\n",
       "      <th></th>\n",
       "      <th>userId</th>\n",
       "      <th>movieId</th>\n",
       "      <th>rating</th>\n",
       "      <th>timestamp</th>\n",
       "    </tr>\n",
       "  </thead>\n",
       "  <tbody>\n",
       "    <tr>\n",
       "      <th>0</th>\n",
       "      <td>5163</td>\n",
       "      <td>57669</td>\n",
       "      <td>4.0</td>\n",
       "      <td>1518349992</td>\n",
       "    </tr>\n",
       "    <tr>\n",
       "      <th>1</th>\n",
       "      <td>106343</td>\n",
       "      <td>5</td>\n",
       "      <td>4.5</td>\n",
       "      <td>1206238739</td>\n",
       "    </tr>\n",
       "  </tbody>\n",
       "</table>\n",
       "</div>"
      ],
      "text/plain": [
       "   userId  movieId  rating   timestamp\n",
       "0    5163    57669     4.0  1518349992\n",
       "1  106343        5     4.5  1206238739"
      ]
     },
     "execution_count": 8,
     "metadata": {},
     "output_type": "execute_result"
    }
   ],
   "source": [
    "train.head(2)"
   ]
  },
  {
   "cell_type": "code",
   "execution_count": 9,
   "metadata": {},
   "outputs": [
    {
     "data": {
      "text/html": [
       "<div>\n",
       "<style scoped>\n",
       "    .dataframe tbody tr th:only-of-type {\n",
       "        vertical-align: middle;\n",
       "    }\n",
       "\n",
       "    .dataframe tbody tr th {\n",
       "        vertical-align: top;\n",
       "    }\n",
       "\n",
       "    .dataframe thead th {\n",
       "        text-align: right;\n",
       "    }\n",
       "</style>\n",
       "<table border=\"1\" class=\"dataframe\">\n",
       "  <thead>\n",
       "    <tr style=\"text-align: right;\">\n",
       "      <th></th>\n",
       "      <th>userId</th>\n",
       "      <th>movieId</th>\n",
       "    </tr>\n",
       "  </thead>\n",
       "  <tbody>\n",
       "    <tr>\n",
       "      <th>0</th>\n",
       "      <td>1</td>\n",
       "      <td>2011</td>\n",
       "    </tr>\n",
       "    <tr>\n",
       "      <th>1</th>\n",
       "      <td>1</td>\n",
       "      <td>4144</td>\n",
       "    </tr>\n",
       "  </tbody>\n",
       "</table>\n",
       "</div>"
      ],
      "text/plain": [
       "   userId  movieId\n",
       "0       1     2011\n",
       "1       1     4144"
      ]
     },
     "execution_count": 9,
     "metadata": {},
     "output_type": "execute_result"
    }
   ],
   "source": [
    "test.head(2)"
   ]
  },
  {
   "cell_type": "code",
   "execution_count": 10,
   "metadata": {},
   "outputs": [
    {
     "data": {
      "text/html": [
       "<div>\n",
       "<style scoped>\n",
       "    .dataframe tbody tr th:only-of-type {\n",
       "        vertical-align: middle;\n",
       "    }\n",
       "\n",
       "    .dataframe tbody tr th {\n",
       "        vertical-align: top;\n",
       "    }\n",
       "\n",
       "    .dataframe thead th {\n",
       "        text-align: right;\n",
       "    }\n",
       "</style>\n",
       "<table border=\"1\" class=\"dataframe\">\n",
       "  <thead>\n",
       "    <tr style=\"text-align: right;\">\n",
       "      <th></th>\n",
       "      <th>movieId</th>\n",
       "      <th>tagId</th>\n",
       "      <th>relevance</th>\n",
       "    </tr>\n",
       "  </thead>\n",
       "  <tbody>\n",
       "    <tr>\n",
       "      <th>0</th>\n",
       "      <td>1</td>\n",
       "      <td>1</td>\n",
       "      <td>0.02875</td>\n",
       "    </tr>\n",
       "    <tr>\n",
       "      <th>1</th>\n",
       "      <td>1</td>\n",
       "      <td>2</td>\n",
       "      <td>0.02375</td>\n",
       "    </tr>\n",
       "  </tbody>\n",
       "</table>\n",
       "</div>"
      ],
      "text/plain": [
       "   movieId  tagId  relevance\n",
       "0        1      1    0.02875\n",
       "1        1      2    0.02375"
      ]
     },
     "execution_count": 10,
     "metadata": {},
     "output_type": "execute_result"
    }
   ],
   "source": [
    "genome_scores.head(2)"
   ]
  },
  {
   "cell_type": "code",
   "execution_count": 11,
   "metadata": {},
   "outputs": [
    {
     "data": {
      "text/html": [
       "<div>\n",
       "<style scoped>\n",
       "    .dataframe tbody tr th:only-of-type {\n",
       "        vertical-align: middle;\n",
       "    }\n",
       "\n",
       "    .dataframe tbody tr th {\n",
       "        vertical-align: top;\n",
       "    }\n",
       "\n",
       "    .dataframe thead th {\n",
       "        text-align: right;\n",
       "    }\n",
       "</style>\n",
       "<table border=\"1\" class=\"dataframe\">\n",
       "  <thead>\n",
       "    <tr style=\"text-align: right;\">\n",
       "      <th></th>\n",
       "      <th>tagId</th>\n",
       "      <th>tag</th>\n",
       "    </tr>\n",
       "  </thead>\n",
       "  <tbody>\n",
       "    <tr>\n",
       "      <th>0</th>\n",
       "      <td>1</td>\n",
       "      <td>007</td>\n",
       "    </tr>\n",
       "    <tr>\n",
       "      <th>1</th>\n",
       "      <td>2</td>\n",
       "      <td>007 (series)</td>\n",
       "    </tr>\n",
       "  </tbody>\n",
       "</table>\n",
       "</div>"
      ],
      "text/plain": [
       "   tagId           tag\n",
       "0      1           007\n",
       "1      2  007 (series)"
      ]
     },
     "execution_count": 11,
     "metadata": {},
     "output_type": "execute_result"
    }
   ],
   "source": [
    "genome_tags.head(2)"
   ]
  },
  {
   "cell_type": "code",
   "execution_count": 12,
   "metadata": {},
   "outputs": [
    {
     "data": {
      "text/html": [
       "<div>\n",
       "<style scoped>\n",
       "    .dataframe tbody tr th:only-of-type {\n",
       "        vertical-align: middle;\n",
       "    }\n",
       "\n",
       "    .dataframe tbody tr th {\n",
       "        vertical-align: top;\n",
       "    }\n",
       "\n",
       "    .dataframe thead th {\n",
       "        text-align: right;\n",
       "    }\n",
       "</style>\n",
       "<table border=\"1\" class=\"dataframe\">\n",
       "  <thead>\n",
       "    <tr style=\"text-align: right;\">\n",
       "      <th></th>\n",
       "      <th>movieId</th>\n",
       "      <th>title_cast</th>\n",
       "      <th>director</th>\n",
       "      <th>runtime</th>\n",
       "      <th>budget</th>\n",
       "      <th>plot_keywords</th>\n",
       "    </tr>\n",
       "  </thead>\n",
       "  <tbody>\n",
       "    <tr>\n",
       "      <th>0</th>\n",
       "      <td>1</td>\n",
       "      <td>Tom Hanks|Tim Allen|Don Rickles|Jim Varney|Wallace Shawn|John Ratzenberger|Annie Potts|John Morris|Erik von Detten|Laurie Metcalf|R. Lee Ermey|Sarah Freeman|Penn Jillette|Jack Angel|Spencer Aste</td>\n",
       "      <td>John Lasseter</td>\n",
       "      <td>81.0</td>\n",
       "      <td>$30,000,000</td>\n",
       "      <td>toy|rivalry|cowboy|cgi animation</td>\n",
       "    </tr>\n",
       "    <tr>\n",
       "      <th>1</th>\n",
       "      <td>2</td>\n",
       "      <td>Robin Williams|Jonathan Hyde|Kirsten Dunst|Bradley Pierce|Bonnie Hunt|Bebe Neuwirth|David Alan Grier|Patricia Clarkson|Adam Hann-Byrd|Laura Bell Bundy|James Handy|Gillian Barber|Brandon Obray|Cyrus Thiedeke|Gary Joseph Thorup</td>\n",
       "      <td>Jonathan Hensleigh</td>\n",
       "      <td>104.0</td>\n",
       "      <td>$65,000,000</td>\n",
       "      <td>board game|adventurer|fight|game</td>\n",
       "    </tr>\n",
       "  </tbody>\n",
       "</table>\n",
       "</div>"
      ],
      "text/plain": [
       "   movieId  \\\n",
       "0        1   \n",
       "1        2   \n",
       "\n",
       "                                                                                                                                                                                                                          title_cast  \\\n",
       "0                                 Tom Hanks|Tim Allen|Don Rickles|Jim Varney|Wallace Shawn|John Ratzenberger|Annie Potts|John Morris|Erik von Detten|Laurie Metcalf|R. Lee Ermey|Sarah Freeman|Penn Jillette|Jack Angel|Spencer Aste   \n",
       "1  Robin Williams|Jonathan Hyde|Kirsten Dunst|Bradley Pierce|Bonnie Hunt|Bebe Neuwirth|David Alan Grier|Patricia Clarkson|Adam Hann-Byrd|Laura Bell Bundy|James Handy|Gillian Barber|Brandon Obray|Cyrus Thiedeke|Gary Joseph Thorup   \n",
       "\n",
       "             director  runtime       budget                     plot_keywords  \n",
       "0       John Lasseter     81.0  $30,000,000  toy|rivalry|cowboy|cgi animation  \n",
       "1  Jonathan Hensleigh    104.0  $65,000,000  board game|adventurer|fight|game  "
      ]
     },
     "execution_count": 12,
     "metadata": {},
     "output_type": "execute_result"
    }
   ],
   "source": [
    "imdb_data.head(2)"
   ]
  },
  {
   "cell_type": "code",
   "execution_count": 13,
   "metadata": {},
   "outputs": [
    {
     "data": {
      "text/html": [
       "<div>\n",
       "<style scoped>\n",
       "    .dataframe tbody tr th:only-of-type {\n",
       "        vertical-align: middle;\n",
       "    }\n",
       "\n",
       "    .dataframe tbody tr th {\n",
       "        vertical-align: top;\n",
       "    }\n",
       "\n",
       "    .dataframe thead th {\n",
       "        text-align: right;\n",
       "    }\n",
       "</style>\n",
       "<table border=\"1\" class=\"dataframe\">\n",
       "  <thead>\n",
       "    <tr style=\"text-align: right;\">\n",
       "      <th></th>\n",
       "      <th>movieId</th>\n",
       "      <th>imdbId</th>\n",
       "      <th>tmdbId</th>\n",
       "    </tr>\n",
       "  </thead>\n",
       "  <tbody>\n",
       "    <tr>\n",
       "      <th>0</th>\n",
       "      <td>1</td>\n",
       "      <td>114709</td>\n",
       "      <td>862.0</td>\n",
       "    </tr>\n",
       "    <tr>\n",
       "      <th>1</th>\n",
       "      <td>2</td>\n",
       "      <td>113497</td>\n",
       "      <td>8844.0</td>\n",
       "    </tr>\n",
       "  </tbody>\n",
       "</table>\n",
       "</div>"
      ],
      "text/plain": [
       "   movieId  imdbId  tmdbId\n",
       "0        1  114709   862.0\n",
       "1        2  113497  8844.0"
      ]
     },
     "execution_count": 13,
     "metadata": {},
     "output_type": "execute_result"
    }
   ],
   "source": [
    "links.head(2)"
   ]
  },
  {
   "cell_type": "code",
   "execution_count": 14,
   "metadata": {},
   "outputs": [
    {
     "data": {
      "text/html": [
       "<div>\n",
       "<style scoped>\n",
       "    .dataframe tbody tr th:only-of-type {\n",
       "        vertical-align: middle;\n",
       "    }\n",
       "\n",
       "    .dataframe tbody tr th {\n",
       "        vertical-align: top;\n",
       "    }\n",
       "\n",
       "    .dataframe thead th {\n",
       "        text-align: right;\n",
       "    }\n",
       "</style>\n",
       "<table border=\"1\" class=\"dataframe\">\n",
       "  <thead>\n",
       "    <tr style=\"text-align: right;\">\n",
       "      <th></th>\n",
       "      <th>movieId</th>\n",
       "      <th>title</th>\n",
       "      <th>genres</th>\n",
       "    </tr>\n",
       "  </thead>\n",
       "  <tbody>\n",
       "    <tr>\n",
       "      <th>0</th>\n",
       "      <td>1</td>\n",
       "      <td>Toy Story (1995)</td>\n",
       "      <td>Adventure|Animation|Children|Comedy|Fantasy</td>\n",
       "    </tr>\n",
       "    <tr>\n",
       "      <th>1</th>\n",
       "      <td>2</td>\n",
       "      <td>Jumanji (1995)</td>\n",
       "      <td>Adventure|Children|Fantasy</td>\n",
       "    </tr>\n",
       "  </tbody>\n",
       "</table>\n",
       "</div>"
      ],
      "text/plain": [
       "   movieId             title                                       genres\n",
       "0        1  Toy Story (1995)  Adventure|Animation|Children|Comedy|Fantasy\n",
       "1        2    Jumanji (1995)                   Adventure|Children|Fantasy"
      ]
     },
     "execution_count": 14,
     "metadata": {},
     "output_type": "execute_result"
    }
   ],
   "source": [
    "movies.head(2)"
   ]
  },
  {
   "cell_type": "code",
   "execution_count": 15,
   "metadata": {},
   "outputs": [
    {
     "data": {
      "text/html": [
       "<div>\n",
       "<style scoped>\n",
       "    .dataframe tbody tr th:only-of-type {\n",
       "        vertical-align: middle;\n",
       "    }\n",
       "\n",
       "    .dataframe tbody tr th {\n",
       "        vertical-align: top;\n",
       "    }\n",
       "\n",
       "    .dataframe thead th {\n",
       "        text-align: right;\n",
       "    }\n",
       "</style>\n",
       "<table border=\"1\" class=\"dataframe\">\n",
       "  <thead>\n",
       "    <tr style=\"text-align: right;\">\n",
       "      <th></th>\n",
       "      <th>userId</th>\n",
       "      <th>movieId</th>\n",
       "      <th>tag</th>\n",
       "      <th>timestamp</th>\n",
       "    </tr>\n",
       "  </thead>\n",
       "  <tbody>\n",
       "    <tr>\n",
       "      <th>0</th>\n",
       "      <td>3</td>\n",
       "      <td>260</td>\n",
       "      <td>classic</td>\n",
       "      <td>1439472355</td>\n",
       "    </tr>\n",
       "    <tr>\n",
       "      <th>1</th>\n",
       "      <td>3</td>\n",
       "      <td>260</td>\n",
       "      <td>sci-fi</td>\n",
       "      <td>1439472256</td>\n",
       "    </tr>\n",
       "  </tbody>\n",
       "</table>\n",
       "</div>"
      ],
      "text/plain": [
       "   userId  movieId      tag   timestamp\n",
       "0       3      260  classic  1439472355\n",
       "1       3      260   sci-fi  1439472256"
      ]
     },
     "execution_count": 15,
     "metadata": {},
     "output_type": "execute_result"
    }
   ],
   "source": [
    "tags.head(2)"
   ]
  },
  {
   "cell_type": "markdown",
   "metadata": {},
   "source": [
    " <a id=\"four\"></a>\n",
    "## 4. DATA PREPROCESSING (CLEANING)\n",
    "<a href=#cont>Back to Table of Contents</a>\n",
    "\n",
    "---\n",
    "    \n",
    "| ⚡ Description: Prepare data to train model ⚡ |\n",
    "| :--------------------------- |"
   ]
  },
  {
   "cell_type": "markdown",
   "metadata": {},
   "source": [
    "### General"
   ]
  },
  {
   "cell_type": "code",
   "execution_count": 16,
   "metadata": {},
   "outputs": [],
   "source": [
    "data_dict = {\"train\": train, \"test\": test, \"genome_scores\": genome_scores, \"genome_tags\": genome_tags, \"imdb_data\": imdb_data, \"links\": links, \"movies\": movies, \"tags\": tags}"
   ]
  },
  {
   "cell_type": "code",
   "execution_count": 17,
   "metadata": {},
   "outputs": [
    {
     "name": "stdout",
     "output_type": "stream",
     "text": [
      "train :  (10000038, 4)\n",
      "test :  (5000019, 2)\n",
      "genome_scores :  (15584448, 3)\n",
      "genome_tags :  (1128, 2)\n",
      "imdb_data :  (27278, 6)\n",
      "links :  (62423, 3)\n",
      "movies :  (62423, 3)\n",
      "tags :  (1093360, 4)\n"
     ]
    }
   ],
   "source": [
    "for k, v in data_dict.items():\n",
    "    print(k, \": \", v.shape)"
   ]
  },
  {
   "cell_type": "code",
   "execution_count": 18,
   "metadata": {},
   "outputs": [
    {
     "name": "stdout",
     "output_type": "stream",
     "text": [
      "train :  Index(['userId', 'movieId', 'rating', 'timestamp'], dtype='object')\n",
      "test :  Index(['userId', 'movieId'], dtype='object')\n",
      "genome_scores :  Index(['movieId', 'tagId', 'relevance'], dtype='object')\n",
      "genome_tags :  Index(['tagId', 'tag'], dtype='object')\n",
      "imdb_data :  Index(['movieId', 'title_cast', 'director', 'runtime', 'budget',\n",
      "       'plot_keywords'],\n",
      "      dtype='object')\n",
      "links :  Index(['movieId', 'imdbId', 'tmdbId'], dtype='object')\n",
      "movies :  Index(['movieId', 'title', 'genres'], dtype='object')\n",
      "tags :  Index(['userId', 'movieId', 'tag', 'timestamp'], dtype='object')\n"
     ]
    }
   ],
   "source": [
    "for k, v in data_dict.items():\n",
    "    print(k, \": \", v.columns)"
   ]
  },
  {
   "cell_type": "code",
   "execution_count": 19,
   "metadata": {},
   "outputs": [
    {
     "name": "stdout",
     "output_type": "stream",
     "text": [
      "imdb_data :\n",
      "movieId              0\n",
      "title_cast       10068\n",
      "director          9874\n",
      "runtime          12089\n",
      "budget           19372\n",
      "plot_keywords    11078\n",
      "dtype: int64\n",
      "links :\n",
      "movieId      0\n",
      "imdbId       0\n",
      "tmdbId     107\n",
      "dtype: int64\n",
      "tags :\n",
      "userId        0\n",
      "movieId       0\n",
      "tag          16\n",
      "timestamp     0\n",
      "dtype: int64\n"
     ]
    }
   ],
   "source": [
    "for k, v in data_dict.items():\n",
    "    if v.isnull().sum().sum() != 0:\n",
    "        print(k, \":\")\n",
    "        print(v.isnull().sum())"
   ]
  },
  {
   "cell_type": "code",
   "execution_count": 20,
   "metadata": {},
   "outputs": [],
   "source": [
    "n_users_r = len(train.userId.unique())\n",
    "n_movies_r = len(train.movieId.unique())\n",
    "n_movies = len(movies.movieId.unique())"
   ]
  },
  {
   "cell_type": "code",
   "execution_count": 315,
   "metadata": {},
   "outputs": [
    {
     "name": "stdout",
     "output_type": "stream",
     "text": [
      "all movies: 62423 ;  rated movies: 48213 ;  rating users: 162541\n"
     ]
    }
   ],
   "source": [
    "print( \"all movies:\", n_movies, \";  rated movies:\", n_movies_r, \";  rating users:\", n_users_r)"
   ]
  },
  {
   "cell_type": "code",
   "execution_count": 22,
   "metadata": {},
   "outputs": [
    {
     "data": {
      "text/plain": [
       "77.2359546961857"
      ]
     },
     "execution_count": 22,
     "metadata": {},
     "output_type": "execute_result"
    }
   ],
   "source": [
    "n_movies_r/n_movies * 100"
   ]
  },
  {
   "cell_type": "markdown",
   "metadata": {},
   "source": [
    "### Train"
   ]
  },
  {
   "cell_type": "code",
   "execution_count": 375,
   "metadata": {},
   "outputs": [],
   "source": [
    "train_group = train.groupby([\"userId\"]).agg({\"rating\": \"count\"})\n",
    "no_users_per_movie = train.groupby('movieId')['rating'].agg('count')\n",
    "no_movies_per_user = train.groupby('userId')['rating'].agg('count')"
   ]
  },
  {
   "cell_type": "code",
   "execution_count": 389,
   "metadata": {},
   "outputs": [
    {
     "data": {
      "image/png": "[encoded data removed]",
      "text/plain": [
       "<Figure size 1440x576 with 1 Axes>"
      ]
     },
     "metadata": {},
     "output_type": "display_data"
    }
   ],
   "source": [
    "# visualize the number of ratings by each user with a threshold of n_fm\n",
    "\n",
    "n_fm = 100\n",
    "\n",
    "f,ax = plt.subplots(1, 1, figsize=(20,8))\n",
    "plt.scatter(no_movies_per_user.index, no_movies_per_user, color='blue')\n",
    "plt.axhline(y=n_fm, color='r')\n",
    "plt.xlabel('userId')\n",
    "plt.ylabel('No. of movie voted per user')\n",
    "plt.show()"
   ]
  },
  {
   "cell_type": "code",
   "execution_count": 68,
   "metadata": {},
   "outputs": [],
   "source": [
    "# limit ratings to user that have rated more than n movies\n",
    "\n",
    "train1 = train[~train.userId.isin(train_group[train_group.rating<n_fm].index)]"
   ]
  },
  {
   "cell_type": "code",
   "execution_count": 69,
   "metadata": {},
   "outputs": [],
   "source": [
    "train2 = train1.drop([\"timestamp\"], axis=1)"
   ]
  },
  {
   "cell_type": "code",
   "execution_count": 70,
   "metadata": {},
   "outputs": [
    {
     "data": {
      "text/plain": [
       "(5795349, 3)"
      ]
     },
     "execution_count": 70,
     "metadata": {},
     "output_type": "execute_result"
    }
   ],
   "source": [
    "train2.shape"
   ]
  },
  {
   "cell_type": "code",
   "execution_count": 307,
   "metadata": {},
   "outputs": [],
   "source": [
    "movie_rated_list = train2.movieId.unique()\n",
    "user_rated_list = train2.userId.unique()"
   ]
  },
  {
   "cell_type": "code",
   "execution_count": 305,
   "metadata": {},
   "outputs": [
    {
     "data": {
      "text/plain": [
       "97.9984651442557"
      ]
     },
     "execution_count": 305,
     "metadata": {},
     "output_type": "execute_result"
    }
   ],
   "source": [
    "len(movie_rated_list)/n_movies_r * 100"
   ]
  },
  {
   "cell_type": "code",
   "execution_count": 308,
   "metadata": {},
   "outputs": [
    {
     "data": {
      "text/plain": [
       "15.784325185645468"
      ]
     },
     "execution_count": 308,
     "metadata": {},
     "output_type": "execute_result"
    }
   ],
   "source": [
    "len(user_rated_list)/n_users_r * 100"
   ]
  },
  {
   "cell_type": "code",
   "execution_count": 316,
   "metadata": {},
   "outputs": [
    {
     "name": "stdout",
     "output_type": "stream",
     "text": [
      "filtered movies: 47248 ;  filtered users: 25656\n"
     ]
    }
   ],
   "source": [
    "print(\"filtered movies:\", len(movie_rated_list), \";  filtered users:\", len(user_rated_list))"
   ]
  },
  {
   "cell_type": "code",
   "execution_count": 74,
   "metadata": {},
   "outputs": [],
   "source": [
    "train_f = train2.copy()"
   ]
  },
  {
   "cell_type": "markdown",
   "metadata": {},
   "source": [
    "### Genome data"
   ]
  },
  {
   "cell_type": "code",
   "execution_count": 75,
   "metadata": {},
   "outputs": [],
   "source": [
    "relevance_th = 0.5\n",
    "\n",
    "genome1 = genome_scores[genome_scores.relevance>relevance_th][['movieId','tagId']] # we do not need the relevance further"
   ]
  },
  {
   "cell_type": "code",
   "execution_count": 76,
   "metadata": {},
   "outputs": [],
   "source": [
    "# merge with genome_tags to get all tags per movie\n",
    "\n",
    "genome2 = pd.merge(genome1, genome_tags, on=\"tagId\")"
   ]
  },
  {
   "cell_type": "code",
   "execution_count": 122,
   "metadata": {},
   "outputs": [],
   "source": [
    "# joining textual names genome_tags with relevant_tags so to get a context\n",
    "\n",
    "genome3 = pd.DataFrame(genome2.groupby([\"movieId\"])[\"tag\"].apply(lambda x: \"%s\" % \" \".join(x))).rename(columns={\"tag\":\"genome_tag\"})"
   ]
  },
  {
   "cell_type": "code",
   "execution_count": 123,
   "metadata": {},
   "outputs": [
    {
     "data": {
      "text/html": [
       "<div>\n",
       "<style scoped>\n",
       "    .dataframe tbody tr th:only-of-type {\n",
       "        vertical-align: middle;\n",
       "    }\n",
       "\n",
       "    .dataframe tbody tr th {\n",
       "        vertical-align: top;\n",
       "    }\n",
       "\n",
       "    .dataframe thead th {\n",
       "        text-align: right;\n",
       "    }\n",
       "</style>\n",
       "<table border=\"1\" class=\"dataframe\">\n",
       "  <thead>\n",
       "    <tr style=\"text-align: right;\">\n",
       "      <th></th>\n",
       "      <th>genome_tag</th>\n",
       "    </tr>\n",
       "    <tr>\n",
       "      <th>movieId</th>\n",
       "      <th></th>\n",
       "    </tr>\n",
       "  </thead>\n",
       "  <tbody>\n",
       "    <tr>\n",
       "      <th>1</th>\n",
       "      <td>3d action adventure affectionate animal movie animals animated animation based on book buddy movie bullying cartoon catastrophe cgi chase childhood children classic clever colourful comedy computer animation cool creativity cute cute! destiny dialogue dinosaurs disney disney animated feature entertaining excellent excellent script exciting family fantasy fast paced feel good movie feel-good friendship fun fun movie funny good good action good soundtrack good versus evil great great ending gr...</td>\n",
       "    </tr>\n",
       "    <tr>\n",
       "      <th>2</th>\n",
       "      <td>action adventure animals based on book bullying catastrophe cgi chase childhood children comedy computer animation creativity destiny dinosaurs entertaining exciting family fantasy fun fun movie good good action great great movie happy ending kids kids and family mentor nostalgic original runaway story adaptation bad cgi based on a book based on a video game big budget computer game dynamic cgi action effects fantasy world jungle lions magic monkey pg-13 saturn award (best special effects) s...</td>\n",
       "    </tr>\n",
       "  </tbody>\n",
       "</table>\n",
       "</div>"
      ],
      "text/plain": [
       "                                                                                                                                                                                                                                                                                                                                                                                                                                                                                                                  genome_tag\n",
       "movieId                                                                                                                                                                                                                                                                                                                                                                                                                                                                                                                     \n",
       "1        3d action adventure affectionate animal movie animals animated animation based on book buddy movie bullying cartoon catastrophe cgi chase childhood children classic clever colourful comedy computer animation cool creativity cute cute! destiny dialogue dinosaurs disney disney animated feature entertaining excellent excellent script exciting family fantasy fast paced feel good movie feel-good friendship fun fun movie funny good good action good soundtrack good versus evil great great ending gr...\n",
       "2        action adventure animals based on book bullying catastrophe cgi chase childhood children comedy computer animation creativity destiny dinosaurs entertaining exciting family fantasy fun fun movie good good action great great movie happy ending kids kids and family mentor nostalgic original runaway story adaptation bad cgi based on a book based on a video game big budget computer game dynamic cgi action effects fantasy world jungle lions magic monkey pg-13 saturn award (best special effects) s..."
      ]
     },
     "execution_count": 123,
     "metadata": {},
     "output_type": "execute_result"
    }
   ],
   "source": [
    "genome3.head(2)"
   ]
  },
  {
   "cell_type": "code",
   "execution_count": 124,
   "metadata": {},
   "outputs": [],
   "source": [
    "genome_f = genome3.copy()"
   ]
  },
  {
   "cell_type": "markdown",
   "metadata": {},
   "source": [
    "### IMDB data"
   ]
  },
  {
   "cell_type": "code",
   "execution_count": 85,
   "metadata": {},
   "outputs": [
    {
     "data": {
      "text/html": [
       "<div>\n",
       "<style scoped>\n",
       "    .dataframe tbody tr th:only-of-type {\n",
       "        vertical-align: middle;\n",
       "    }\n",
       "\n",
       "    .dataframe tbody tr th {\n",
       "        vertical-align: top;\n",
       "    }\n",
       "\n",
       "    .dataframe thead th {\n",
       "        text-align: right;\n",
       "    }\n",
       "</style>\n",
       "<table border=\"1\" class=\"dataframe\">\n",
       "  <thead>\n",
       "    <tr style=\"text-align: right;\">\n",
       "      <th></th>\n",
       "      <th>movieId</th>\n",
       "      <th>title_cast</th>\n",
       "      <th>director</th>\n",
       "      <th>runtime</th>\n",
       "      <th>budget</th>\n",
       "      <th>plot_keywords</th>\n",
       "    </tr>\n",
       "  </thead>\n",
       "  <tbody>\n",
       "    <tr>\n",
       "      <th>0</th>\n",
       "      <td>1</td>\n",
       "      <td>Tom Hanks|Tim Allen|Don Rickles|Jim Varney|Wallace Shawn|John Ratzenberger|Annie Potts|John Morris|Erik von Detten|Laurie Metcalf|R. Lee Ermey|Sarah Freeman|Penn Jillette|Jack Angel|Spencer Aste</td>\n",
       "      <td>John Lasseter</td>\n",
       "      <td>81.0</td>\n",
       "      <td>$30,000,000</td>\n",
       "      <td>toy|rivalry|cowboy|cgi animation</td>\n",
       "    </tr>\n",
       "    <tr>\n",
       "      <th>1</th>\n",
       "      <td>2</td>\n",
       "      <td>Robin Williams|Jonathan Hyde|Kirsten Dunst|Bradley Pierce|Bonnie Hunt|Bebe Neuwirth|David Alan Grier|Patricia Clarkson|Adam Hann-Byrd|Laura Bell Bundy|James Handy|Gillian Barber|Brandon Obray|Cyrus Thiedeke|Gary Joseph Thorup</td>\n",
       "      <td>Jonathan Hensleigh</td>\n",
       "      <td>104.0</td>\n",
       "      <td>$65,000,000</td>\n",
       "      <td>board game|adventurer|fight|game</td>\n",
       "    </tr>\n",
       "  </tbody>\n",
       "</table>\n",
       "</div>"
      ],
      "text/plain": [
       "   movieId  \\\n",
       "0        1   \n",
       "1        2   \n",
       "\n",
       "                                                                                                                                                                                                                          title_cast  \\\n",
       "0                                 Tom Hanks|Tim Allen|Don Rickles|Jim Varney|Wallace Shawn|John Ratzenberger|Annie Potts|John Morris|Erik von Detten|Laurie Metcalf|R. Lee Ermey|Sarah Freeman|Penn Jillette|Jack Angel|Spencer Aste   \n",
       "1  Robin Williams|Jonathan Hyde|Kirsten Dunst|Bradley Pierce|Bonnie Hunt|Bebe Neuwirth|David Alan Grier|Patricia Clarkson|Adam Hann-Byrd|Laura Bell Bundy|James Handy|Gillian Barber|Brandon Obray|Cyrus Thiedeke|Gary Joseph Thorup   \n",
       "\n",
       "             director  runtime       budget                     plot_keywords  \n",
       "0       John Lasseter     81.0  $30,000,000  toy|rivalry|cowboy|cgi animation  \n",
       "1  Jonathan Hensleigh    104.0  $65,000,000  board game|adventurer|fight|game  "
      ]
     },
     "execution_count": 85,
     "metadata": {},
     "output_type": "execute_result"
    }
   ],
   "source": [
    "imdb_data.head(2)"
   ]
  },
  {
   "cell_type": "code",
   "execution_count": 89,
   "metadata": {},
   "outputs": [],
   "source": [
    "imdb1 = imdb_data.fillna(\"\")"
   ]
  },
  {
   "cell_type": "code",
   "execution_count": 90,
   "metadata": {},
   "outputs": [],
   "source": [
    "imdb1.title_cast = imdb1.title_cast.str.replace(\"|\", \" \")\n",
    "imdb1.plot_keywords = imdb1.plot_keywords.str.replace(\"|\", \" \")"
   ]
  },
  {
   "cell_type": "code",
   "execution_count": 91,
   "metadata": {},
   "outputs": [],
   "source": [
    "imdb1[\"movie_data\"] = imdb1[[\"title_cast\", \"director\", \"plot_keywords\"]].apply(lambda x: \" \".join(x), axis=1)"
   ]
  },
  {
   "cell_type": "code",
   "execution_count": 94,
   "metadata": {},
   "outputs": [],
   "source": [
    "imdb2 = imdb1.drop([\"title_cast\", \"director\", \"plot_keywords\", \"runtime\", \"budget\"], axis=1)"
   ]
  },
  {
   "cell_type": "code",
   "execution_count": 98,
   "metadata": {},
   "outputs": [
    {
     "data": {
      "text/html": [
       "<div>\n",
       "<style scoped>\n",
       "    .dataframe tbody tr th:only-of-type {\n",
       "        vertical-align: middle;\n",
       "    }\n",
       "\n",
       "    .dataframe tbody tr th {\n",
       "        vertical-align: top;\n",
       "    }\n",
       "\n",
       "    .dataframe thead th {\n",
       "        text-align: right;\n",
       "    }\n",
       "</style>\n",
       "<table border=\"1\" class=\"dataframe\">\n",
       "  <thead>\n",
       "    <tr style=\"text-align: right;\">\n",
       "      <th></th>\n",
       "      <th>movieId</th>\n",
       "      <th>movie_data</th>\n",
       "    </tr>\n",
       "  </thead>\n",
       "  <tbody>\n",
       "    <tr>\n",
       "      <th>0</th>\n",
       "      <td>1</td>\n",
       "      <td>Tom Hanks Tim Allen Don Rickles Jim Varney Wallace Shawn John Ratzenberger Annie Potts John Morris Erik von Detten Laurie Metcalf R. Lee Ermey Sarah Freeman Penn Jillette Jack Angel Spencer Aste John Lasseter toy rivalry cowboy cgi animation</td>\n",
       "    </tr>\n",
       "    <tr>\n",
       "      <th>1</th>\n",
       "      <td>2</td>\n",
       "      <td>Robin Williams Jonathan Hyde Kirsten Dunst Bradley Pierce Bonnie Hunt Bebe Neuwirth David Alan Grier Patricia Clarkson Adam Hann-Byrd Laura Bell Bundy James Handy Gillian Barber Brandon Obray Cyrus Thiedeke Gary Joseph Thorup Jonathan Hensleigh board game adventurer fight game</td>\n",
       "    </tr>\n",
       "  </tbody>\n",
       "</table>\n",
       "</div>"
      ],
      "text/plain": [
       "   movieId  \\\n",
       "0        1   \n",
       "1        2   \n",
       "\n",
       "                                                                                                                                                                                                                                                                              movie_data  \n",
       "0                                      Tom Hanks Tim Allen Don Rickles Jim Varney Wallace Shawn John Ratzenberger Annie Potts John Morris Erik von Detten Laurie Metcalf R. Lee Ermey Sarah Freeman Penn Jillette Jack Angel Spencer Aste John Lasseter toy rivalry cowboy cgi animation  \n",
       "1  Robin Williams Jonathan Hyde Kirsten Dunst Bradley Pierce Bonnie Hunt Bebe Neuwirth David Alan Grier Patricia Clarkson Adam Hann-Byrd Laura Bell Bundy James Handy Gillian Barber Brandon Obray Cyrus Thiedeke Gary Joseph Thorup Jonathan Hensleigh board game adventurer fight game  "
      ]
     },
     "execution_count": 98,
     "metadata": {},
     "output_type": "execute_result"
    }
   ],
   "source": [
    "imdb2.head(2)"
   ]
  },
  {
   "cell_type": "code",
   "execution_count": 97,
   "metadata": {},
   "outputs": [],
   "source": [
    "imdb_f = imdb2.copy()"
   ]
  },
  {
   "cell_type": "markdown",
   "metadata": {},
   "source": [
    "### Tags"
   ]
  },
  {
   "cell_type": "code",
   "execution_count": 100,
   "metadata": {},
   "outputs": [
    {
     "data": {
      "text/html": [
       "<div>\n",
       "<style scoped>\n",
       "    .dataframe tbody tr th:only-of-type {\n",
       "        vertical-align: middle;\n",
       "    }\n",
       "\n",
       "    .dataframe tbody tr th {\n",
       "        vertical-align: top;\n",
       "    }\n",
       "\n",
       "    .dataframe thead th {\n",
       "        text-align: right;\n",
       "    }\n",
       "</style>\n",
       "<table border=\"1\" class=\"dataframe\">\n",
       "  <thead>\n",
       "    <tr style=\"text-align: right;\">\n",
       "      <th></th>\n",
       "      <th>userId</th>\n",
       "      <th>movieId</th>\n",
       "      <th>tag</th>\n",
       "      <th>timestamp</th>\n",
       "    </tr>\n",
       "  </thead>\n",
       "  <tbody>\n",
       "    <tr>\n",
       "      <th>860902</th>\n",
       "      <td>121710</td>\n",
       "      <td>33826</td>\n",
       "      <td>NaN</td>\n",
       "      <td>1221450908</td>\n",
       "    </tr>\n",
       "    <tr>\n",
       "      <th>976395</th>\n",
       "      <td>141727</td>\n",
       "      <td>123</td>\n",
       "      <td>NaN</td>\n",
       "      <td>1199450867</td>\n",
       "    </tr>\n",
       "    <tr>\n",
       "      <th>976396</th>\n",
       "      <td>141727</td>\n",
       "      <td>346</td>\n",
       "      <td>NaN</td>\n",
       "      <td>1199451946</td>\n",
       "    </tr>\n",
       "    <tr>\n",
       "      <th>976400</th>\n",
       "      <td>141727</td>\n",
       "      <td>1184</td>\n",
       "      <td>NaN</td>\n",
       "      <td>1199452261</td>\n",
       "    </tr>\n",
       "    <tr>\n",
       "      <th>976407</th>\n",
       "      <td>141727</td>\n",
       "      <td>1785</td>\n",
       "      <td>NaN</td>\n",
       "      <td>1199452006</td>\n",
       "    </tr>\n",
       "    <tr>\n",
       "      <th>976408</th>\n",
       "      <td>141727</td>\n",
       "      <td>2194</td>\n",
       "      <td>NaN</td>\n",
       "      <td>1199450677</td>\n",
       "    </tr>\n",
       "    <tr>\n",
       "      <th>976410</th>\n",
       "      <td>141727</td>\n",
       "      <td>2691</td>\n",
       "      <td>NaN</td>\n",
       "      <td>1199451002</td>\n",
       "    </tr>\n",
       "    <tr>\n",
       "      <th>976418</th>\n",
       "      <td>141727</td>\n",
       "      <td>4103</td>\n",
       "      <td>NaN</td>\n",
       "      <td>1199451920</td>\n",
       "    </tr>\n",
       "    <tr>\n",
       "      <th>976420</th>\n",
       "      <td>141727</td>\n",
       "      <td>4473</td>\n",
       "      <td>NaN</td>\n",
       "      <td>1199451040</td>\n",
       "    </tr>\n",
       "    <tr>\n",
       "      <th>976422</th>\n",
       "      <td>141727</td>\n",
       "      <td>4616</td>\n",
       "      <td>NaN</td>\n",
       "      <td>1199452441</td>\n",
       "    </tr>\n",
       "    <tr>\n",
       "      <th>976438</th>\n",
       "      <td>141727</td>\n",
       "      <td>7624</td>\n",
       "      <td>NaN</td>\n",
       "      <td>1199452266</td>\n",
       "    </tr>\n",
       "    <tr>\n",
       "      <th>976444</th>\n",
       "      <td>141727</td>\n",
       "      <td>8898</td>\n",
       "      <td>NaN</td>\n",
       "      <td>1199450757</td>\n",
       "    </tr>\n",
       "    <tr>\n",
       "      <th>976451</th>\n",
       "      <td>141727</td>\n",
       "      <td>32460</td>\n",
       "      <td>NaN</td>\n",
       "      <td>1199450901</td>\n",
       "    </tr>\n",
       "    <tr>\n",
       "      <th>976453</th>\n",
       "      <td>141727</td>\n",
       "      <td>33826</td>\n",
       "      <td>NaN</td>\n",
       "      <td>1199450703</td>\n",
       "    </tr>\n",
       "    <tr>\n",
       "      <th>976458</th>\n",
       "      <td>141727</td>\n",
       "      <td>36537</td>\n",
       "      <td>NaN</td>\n",
       "      <td>1199450736</td>\n",
       "    </tr>\n",
       "    <tr>\n",
       "      <th>976459</th>\n",
       "      <td>141727</td>\n",
       "      <td>55805</td>\n",
       "      <td>NaN</td>\n",
       "      <td>1199450941</td>\n",
       "    </tr>\n",
       "  </tbody>\n",
       "</table>\n",
       "</div>"
      ],
      "text/plain": [
       "        userId  movieId  tag   timestamp\n",
       "860902  121710    33826  NaN  1221450908\n",
       "976395  141727      123  NaN  1199450867\n",
       "976396  141727      346  NaN  1199451946\n",
       "976400  141727     1184  NaN  1199452261\n",
       "976407  141727     1785  NaN  1199452006\n",
       "976408  141727     2194  NaN  1199450677\n",
       "976410  141727     2691  NaN  1199451002\n",
       "976418  141727     4103  NaN  1199451920\n",
       "976420  141727     4473  NaN  1199451040\n",
       "976422  141727     4616  NaN  1199452441\n",
       "976438  141727     7624  NaN  1199452266\n",
       "976444  141727     8898  NaN  1199450757\n",
       "976451  141727    32460  NaN  1199450901\n",
       "976453  141727    33826  NaN  1199450703\n",
       "976458  141727    36537  NaN  1199450736\n",
       "976459  141727    55805  NaN  1199450941"
      ]
     },
     "execution_count": 100,
     "metadata": {},
     "output_type": "execute_result"
    }
   ],
   "source": [
    "# Display rows with one or more NaN values in tags dataframe\n",
    "\n",
    "tags1 = tags[tags.isna().any(axis=1)]\n",
    "tags1"
   ]
  },
  {
   "cell_type": "code",
   "execution_count": 101,
   "metadata": {},
   "outputs": [
    {
     "data": {
      "text/plain": [
       "73051"
      ]
     },
     "execution_count": 101,
     "metadata": {},
     "output_type": "execute_result"
    }
   ],
   "source": [
    "len(tags.tag.unique())"
   ]
  },
  {
   "cell_type": "code",
   "execution_count": 130,
   "metadata": {},
   "outputs": [],
   "source": [
    "tags_cl = tags.copy()\n",
    "tags_cl.tag = tags_cl.groupby([\"movieId\"])[\"tag\"].apply(lambda x: x.fillna(x.mode()[0]))"
   ]
  },
  {
   "cell_type": "code",
   "execution_count": 131,
   "metadata": {},
   "outputs": [],
   "source": [
    "tags_cl.drop([\"timestamp\"], axis=1, inplace=True)"
   ]
  },
  {
   "cell_type": "code",
   "execution_count": 132,
   "metadata": {},
   "outputs": [],
   "source": [
    "tags_cl.rename(columns={\"tag\":\"movie_tag\"}, inplace=True)"
   ]
  },
  {
   "cell_type": "code",
   "execution_count": 133,
   "metadata": {},
   "outputs": [
    {
     "data": {
      "text/plain": [
       "userId       0\n",
       "movieId      0\n",
       "movie_tag    0\n",
       "dtype: int64"
      ]
     },
     "execution_count": 133,
     "metadata": {},
     "output_type": "execute_result"
    }
   ],
   "source": [
    "tags_cl.isnull().sum()"
   ]
  },
  {
   "cell_type": "code",
   "execution_count": 134,
   "metadata": {},
   "outputs": [],
   "source": [
    "tags_f = tags_cl.copy()"
   ]
  },
  {
   "cell_type": "markdown",
   "metadata": {},
   "source": [
    "### Movies"
   ]
  },
  {
   "cell_type": "code",
   "execution_count": 106,
   "metadata": {},
   "outputs": [],
   "source": [
    "movies.genres = movies.genres.str.replace(\"|\", \" \")"
   ]
  },
  {
   "cell_type": "code",
   "execution_count": 280,
   "metadata": {},
   "outputs": [
    {
     "data": {
      "text/html": [
       "<div>\n",
       "<style scoped>\n",
       "    .dataframe tbody tr th:only-of-type {\n",
       "        vertical-align: middle;\n",
       "    }\n",
       "\n",
       "    .dataframe tbody tr th {\n",
       "        vertical-align: top;\n",
       "    }\n",
       "\n",
       "    .dataframe thead th {\n",
       "        text-align: right;\n",
       "    }\n",
       "</style>\n",
       "<table border=\"1\" class=\"dataframe\">\n",
       "  <thead>\n",
       "    <tr style=\"text-align: right;\">\n",
       "      <th></th>\n",
       "      <th>movieId</th>\n",
       "      <th>title</th>\n",
       "      <th>genres</th>\n",
       "    </tr>\n",
       "  </thead>\n",
       "  <tbody>\n",
       "    <tr>\n",
       "      <th>0</th>\n",
       "      <td>1</td>\n",
       "      <td>Toy Story (1995)</td>\n",
       "      <td>Adventure Animation Children Comedy Fantasy</td>\n",
       "    </tr>\n",
       "    <tr>\n",
       "      <th>1</th>\n",
       "      <td>2</td>\n",
       "      <td>Jumanji (1995)</td>\n",
       "      <td>Adventure Children Fantasy</td>\n",
       "    </tr>\n",
       "  </tbody>\n",
       "</table>\n",
       "</div>"
      ],
      "text/plain": [
       "   movieId             title                                       genres\n",
       "0        1  Toy Story (1995)  Adventure Animation Children Comedy Fantasy\n",
       "1        2    Jumanji (1995)                   Adventure Children Fantasy"
      ]
     },
     "execution_count": 280,
     "metadata": {},
     "output_type": "execute_result"
    }
   ],
   "source": [
    "movies.head(2)"
   ]
  },
  {
   "cell_type": "code",
   "execution_count": 275,
   "metadata": {},
   "outputs": [],
   "source": [
    "# map movies to id\n",
    "\n",
    "mapping_movie = dict(zip(movies.movieId.tolist(), movies.title.tolist()))"
   ]
  },
  {
   "cell_type": "code",
   "execution_count": 267,
   "metadata": {},
   "outputs": [],
   "source": [
    "title_list = movies.title.tolist()"
   ]
  },
  {
   "cell_type": "markdown",
   "metadata": {},
   "source": [
    "### Merged DataFrame"
   ]
  },
  {
   "cell_type": "code",
   "execution_count": 188,
   "metadata": {},
   "outputs": [],
   "source": [
    "merged = pd.merge(movies, tags_f, on=\"movieId\", how=\"left\").fillna(\"\") # string missing values"
   ]
  },
  {
   "cell_type": "code",
   "execution_count": 189,
   "metadata": {},
   "outputs": [
    {
     "data": {
      "text/plain": [
       "movieId      0\n",
       "title        0\n",
       "genres       0\n",
       "userId       0\n",
       "movie_tag    0\n",
       "dtype: int64"
      ]
     },
     "execution_count": 189,
     "metadata": {},
     "output_type": "execute_result"
    }
   ],
   "source": [
    "merged.isnull().sum()"
   ]
  },
  {
   "cell_type": "code",
   "execution_count": 192,
   "metadata": {},
   "outputs": [],
   "source": [
    "# combine all tags per movie\n",
    "\n",
    "merged1 = pd.DataFrame(merged.groupby([\"movieId\"])[\"movie_tag\"].apply(lambda x: \"%s\" % ' '.join(x)))"
   ]
  },
  {
   "cell_type": "code",
   "execution_count": 195,
   "metadata": {},
   "outputs": [],
   "source": [
    "merged2 = pd.merge(movies, merged1, on=\"movieId\", how=\"left\").merge(imdb_f, on=\"movieId\", how=\"left\").merge(genome_f, on=\"movieId\", how=\"left\").fillna(\"\")"
   ]
  },
  {
   "cell_type": "code",
   "execution_count": 196,
   "metadata": {},
   "outputs": [
    {
     "data": {
      "text/html": [
       "<div>\n",
       "<style scoped>\n",
       "    .dataframe tbody tr th:only-of-type {\n",
       "        vertical-align: middle;\n",
       "    }\n",
       "\n",
       "    .dataframe tbody tr th {\n",
       "        vertical-align: top;\n",
       "    }\n",
       "\n",
       "    .dataframe thead th {\n",
       "        text-align: right;\n",
       "    }\n",
       "</style>\n",
       "<table border=\"1\" class=\"dataframe\">\n",
       "  <thead>\n",
       "    <tr style=\"text-align: right;\">\n",
       "      <th></th>\n",
       "      <th>movieId</th>\n",
       "      <th>title</th>\n",
       "      <th>genres</th>\n",
       "      <th>movie_tag</th>\n",
       "      <th>movie_data</th>\n",
       "      <th>genome_tag</th>\n",
       "    </tr>\n",
       "  </thead>\n",
       "  <tbody>\n",
       "    <tr>\n",
       "      <th>0</th>\n",
       "      <td>1</td>\n",
       "      <td>Toy Story (1995)</td>\n",
       "      <td>Adventure Animation Children Comedy Fantasy</td>\n",
       "      <td>Owned imdb top 250 Pixar Pixar time travel children comedy funny witty rated-G animation Pixar computer animation good cartoon chindren pixar friendship bright DARING RESCUES fanciful HEROIC MISSION humorous light rousing TOYS COME TO LIFE UNLIKELY FRIENDSHIPS warm witty animation Disney friendship pixar boy boy next door bullying friends friendship jealousy martial arts mission neighborhood new toy pixar rescue resourcefulness rivalry toy toy comes to life walkie talkie clever animation cle...</td>\n",
       "      <td>Tom Hanks Tim Allen Don Rickles Jim Varney Wallace Shawn John Ratzenberger Annie Potts John Morris Erik von Detten Laurie Metcalf R. Lee Ermey Sarah Freeman Penn Jillette Jack Angel Spencer Aste John Lasseter toy rivalry cowboy cgi animation</td>\n",
       "      <td>3d action adventure affectionate animal movie animals animated animation based on book buddy movie bullying cartoon catastrophe cgi chase childhood children classic clever colourful comedy computer animation cool creativity cute cute! destiny dialogue dinosaurs disney disney animated feature entertaining excellent excellent script exciting family fantasy fast paced feel good movie feel-good friendship fun fun movie funny good good action good soundtrack good versus evil great great ending gr...</td>\n",
       "    </tr>\n",
       "    <tr>\n",
       "      <th>1</th>\n",
       "      <td>2</td>\n",
       "      <td>Jumanji (1995)</td>\n",
       "      <td>Adventure Children Fantasy</td>\n",
       "      <td>Robin Williams time travel fantasy based on children's book board game disappearance giant insect new home recluse bad cgi kid flick scary time travel animals bad cgi board game not for kids Robin Williams time travel fantasy magic board game Robin Williams kid flick adventure animals board game family fantasy fiction Robin Williams time travel fantasy Robin Williams adapted from:book childish Children kid flick time travel animals bad cgi based on a book board game Chris Van Allsburg animal...</td>\n",
       "      <td>Robin Williams Jonathan Hyde Kirsten Dunst Bradley Pierce Bonnie Hunt Bebe Neuwirth David Alan Grier Patricia Clarkson Adam Hann-Byrd Laura Bell Bundy James Handy Gillian Barber Brandon Obray Cyrus Thiedeke Gary Joseph Thorup Jonathan Hensleigh board game adventurer fight game</td>\n",
       "      <td>action adventure animals based on book bullying catastrophe cgi chase childhood children comedy computer animation creativity destiny dinosaurs entertaining exciting family fantasy fun fun movie good good action great great movie happy ending kids kids and family mentor nostalgic original runaway story adaptation bad cgi based on a book based on a video game big budget computer game dynamic cgi action effects fantasy world jungle lions magic monkey pg-13 saturn award (best special effects) s...</td>\n",
       "    </tr>\n",
       "  </tbody>\n",
       "</table>\n",
       "</div>"
      ],
      "text/plain": [
       "   movieId             title                                       genres  \\\n",
       "0        1  Toy Story (1995)  Adventure Animation Children Comedy Fantasy   \n",
       "1        2    Jumanji (1995)                   Adventure Children Fantasy   \n",
       "\n",
       "                                                                                                                                                                                                                                                                                                                                                                                                                                                                                                             movie_tag  \\\n",
       "0  Owned imdb top 250 Pixar Pixar time travel children comedy funny witty rated-G animation Pixar computer animation good cartoon chindren pixar friendship bright DARING RESCUES fanciful HEROIC MISSION humorous light rousing TOYS COME TO LIFE UNLIKELY FRIENDSHIPS warm witty animation Disney friendship pixar boy boy next door bullying friends friendship jealousy martial arts mission neighborhood new toy pixar rescue resourcefulness rivalry toy toy comes to life walkie talkie clever animation cle...   \n",
       "1  Robin Williams time travel fantasy based on children's book board game disappearance giant insect new home recluse bad cgi kid flick scary time travel animals bad cgi board game not for kids Robin Williams time travel fantasy magic board game Robin Williams kid flick adventure animals board game family fantasy fiction Robin Williams time travel fantasy Robin Williams adapted from:book childish Children kid flick time travel animals bad cgi based on a book board game Chris Van Allsburg animal...   \n",
       "\n",
       "                                                                                                                                                                                                                                                                              movie_data  \\\n",
       "0                                      Tom Hanks Tim Allen Don Rickles Jim Varney Wallace Shawn John Ratzenberger Annie Potts John Morris Erik von Detten Laurie Metcalf R. Lee Ermey Sarah Freeman Penn Jillette Jack Angel Spencer Aste John Lasseter toy rivalry cowboy cgi animation   \n",
       "1  Robin Williams Jonathan Hyde Kirsten Dunst Bradley Pierce Bonnie Hunt Bebe Neuwirth David Alan Grier Patricia Clarkson Adam Hann-Byrd Laura Bell Bundy James Handy Gillian Barber Brandon Obray Cyrus Thiedeke Gary Joseph Thorup Jonathan Hensleigh board game adventurer fight game   \n",
       "\n",
       "                                                                                                                                                                                                                                                                                                                                                                                                                                                                                                            genome_tag  \n",
       "0  3d action adventure affectionate animal movie animals animated animation based on book buddy movie bullying cartoon catastrophe cgi chase childhood children classic clever colourful comedy computer animation cool creativity cute cute! destiny dialogue dinosaurs disney disney animated feature entertaining excellent excellent script exciting family fantasy fast paced feel good movie feel-good friendship fun fun movie funny good good action good soundtrack good versus evil great great ending gr...  \n",
       "1  action adventure animals based on book bullying catastrophe cgi chase childhood children comedy computer animation creativity destiny dinosaurs entertaining exciting family fantasy fun fun movie good good action great great movie happy ending kids kids and family mentor nostalgic original runaway story adaptation bad cgi based on a book based on a video game big budget computer game dynamic cgi action effects fantasy world jungle lions magic monkey pg-13 saturn award (best special effects) s...  "
      ]
     },
     "execution_count": 196,
     "metadata": {},
     "output_type": "execute_result"
    }
   ],
   "source": [
    "merged2.head(2)"
   ]
  },
  {
   "cell_type": "code",
   "execution_count": 197,
   "metadata": {},
   "outputs": [],
   "source": [
    "# metadata from tags and genres\n",
    "\n",
    "merged2[\"metadata\"] = merged2[[\"genres\", \"movie_tag\", \"movie_data\", \"genome_tag\"]].apply(lambda x: \" \".join(x), axis=1)"
   ]
  },
  {
   "cell_type": "code",
   "execution_count": 198,
   "metadata": {},
   "outputs": [],
   "source": [
    "merged3 = merged2.drop([\"genres\", \"movie_tag\", \"movie_data\", \"genome_tag\"], axis=1)"
   ]
  },
  {
   "cell_type": "code",
   "execution_count": 199,
   "metadata": {},
   "outputs": [
    {
     "data": {
      "text/plain": [
       "(62423, 3)"
      ]
     },
     "execution_count": 199,
     "metadata": {},
     "output_type": "execute_result"
    }
   ],
   "source": [
    "merged3.shape"
   ]
  },
  {
   "cell_type": "code",
   "execution_count": 200,
   "metadata": {},
   "outputs": [
    {
     "data": {
      "text/html": [
       "<div>\n",
       "<style scoped>\n",
       "    .dataframe tbody tr th:only-of-type {\n",
       "        vertical-align: middle;\n",
       "    }\n",
       "\n",
       "    .dataframe tbody tr th {\n",
       "        vertical-align: top;\n",
       "    }\n",
       "\n",
       "    .dataframe thead th {\n",
       "        text-align: right;\n",
       "    }\n",
       "</style>\n",
       "<table border=\"1\" class=\"dataframe\">\n",
       "  <thead>\n",
       "    <tr style=\"text-align: right;\">\n",
       "      <th></th>\n",
       "      <th>movieId</th>\n",
       "      <th>title</th>\n",
       "      <th>metadata</th>\n",
       "    </tr>\n",
       "  </thead>\n",
       "  <tbody>\n",
       "    <tr>\n",
       "      <th>0</th>\n",
       "      <td>1</td>\n",
       "      <td>Toy Story (1995)</td>\n",
       "      <td>Adventure Animation Children Comedy Fantasy Owned imdb top 250 Pixar Pixar time travel children comedy funny witty rated-G animation Pixar computer animation good cartoon chindren pixar friendship bright DARING RESCUES fanciful HEROIC MISSION humorous light rousing TOYS COME TO LIFE UNLIKELY FRIENDSHIPS warm witty animation Disney friendship pixar boy boy next door bullying friends friendship jealousy martial arts mission neighborhood new toy pixar rescue resourcefulness rivalry toy toy come...</td>\n",
       "    </tr>\n",
       "    <tr>\n",
       "      <th>1</th>\n",
       "      <td>2</td>\n",
       "      <td>Jumanji (1995)</td>\n",
       "      <td>Adventure Children Fantasy Robin Williams time travel fantasy based on children's book board game disappearance giant insect new home recluse bad cgi kid flick scary time travel animals bad cgi board game not for kids Robin Williams time travel fantasy magic board game Robin Williams kid flick adventure animals board game family fantasy fiction Robin Williams time travel fantasy Robin Williams adapted from:book childish Children kid flick time travel animals bad cgi based on a book board gam...</td>\n",
       "    </tr>\n",
       "  </tbody>\n",
       "</table>\n",
       "</div>"
      ],
      "text/plain": [
       "   movieId             title  \\\n",
       "0        1  Toy Story (1995)   \n",
       "1        2    Jumanji (1995)   \n",
       "\n",
       "                                                                                                                                                                                                                                                                                                                                                                                                                                                                                                              metadata  \n",
       "0  Adventure Animation Children Comedy Fantasy Owned imdb top 250 Pixar Pixar time travel children comedy funny witty rated-G animation Pixar computer animation good cartoon chindren pixar friendship bright DARING RESCUES fanciful HEROIC MISSION humorous light rousing TOYS COME TO LIFE UNLIKELY FRIENDSHIPS warm witty animation Disney friendship pixar boy boy next door bullying friends friendship jealousy martial arts mission neighborhood new toy pixar rescue resourcefulness rivalry toy toy come...  \n",
       "1  Adventure Children Fantasy Robin Williams time travel fantasy based on children's book board game disappearance giant insect new home recluse bad cgi kid flick scary time travel animals bad cgi board game not for kids Robin Williams time travel fantasy magic board game Robin Williams kid flick adventure animals board game family fantasy fiction Robin Williams time travel fantasy Robin Williams adapted from:book childish Children kid flick time travel animals bad cgi based on a book board gam...  "
      ]
     },
     "execution_count": 200,
     "metadata": {},
     "output_type": "execute_result"
    }
   ],
   "source": [
    "merged3.head(2)"
   ]
  },
  {
   "cell_type": "code",
   "execution_count": 202,
   "metadata": {},
   "outputs": [],
   "source": [
    "merged_f = merged3.copy()"
   ]
  },
  {
   "cell_type": "markdown",
   "metadata": {},
   "source": [
    "### Content-based filtering; latent matrix from metadata"
   ]
  },
  {
   "cell_type": "code",
   "execution_count": 203,
   "metadata": {},
   "outputs": [],
   "source": [
    "tfidf_content = TfidfVectorizer(stop_words=\"english\")\n",
    "matrix_content = tfidf_content.fit_transform(merged_f[\"metadata\"])"
   ]
  },
  {
   "cell_type": "code",
   "execution_count": 205,
   "metadata": {},
   "outputs": [
    {
     "data": {
      "text/plain": [
       "(62423, 97764)"
      ]
     },
     "execution_count": 205,
     "metadata": {},
     "output_type": "execute_result"
    }
   ],
   "source": [
    "matrix_content.shape"
   ]
  },
  {
   "cell_type": "code",
   "execution_count": 208,
   "metadata": {},
   "outputs": [],
   "source": [
    "# compress with SVD\n",
    "\n",
    "n_content = 600\n",
    "svd_content = TruncatedSVD(n_components=n_content)\n",
    "latent_content = svd_content.fit_transform(matrix_content)"
   ]
  },
  {
   "cell_type": "code",
   "execution_count": 210,
   "metadata": {},
   "outputs": [
    {
     "data": {
      "image/png": "[encoded data removed]",
      "text/plain": [
       "<Figure size 720x504 with 1 Axes>"
      ]
     },
     "metadata": {},
     "output_type": "display_data"
    }
   ],
   "source": [
    "# plot variance explained tochoose latent dimensions\n",
    "\n",
    "explained_content = svd_content.explained_variance_ratio_.cumsum()\n",
    "plt.plot(explained_content, \".-\", ms=16, color=\"blue\")\n",
    "plt.xlabel(\"singular value components\", fontsize=12)\n",
    "plt.ylabel(\"cumulative percent of variance\", fontsize=12)\n",
    "plt.show()"
   ]
  },
  {
   "cell_type": "code",
   "execution_count": 218,
   "metadata": {},
   "outputs": [
    {
     "data": {
      "text/plain": [
       "(62423, 600)"
      ]
     },
     "execution_count": 218,
     "metadata": {},
     "output_type": "execute_result"
    }
   ],
   "source": [
    "latent_content.shape"
   ]
  },
  {
   "cell_type": "code",
   "execution_count": 277,
   "metadata": {},
   "outputs": [],
   "source": [
    "latent_content_df = pd.DataFrame(latent_content, index=title_list)"
   ]
  },
  {
   "cell_type": "code",
   "execution_count": 287,
   "metadata": {},
   "outputs": [
    {
     "data": {
      "text/html": [
       "<div>\n",
       "<style scoped>\n",
       "    .dataframe tbody tr th:only-of-type {\n",
       "        vertical-align: middle;\n",
       "    }\n",
       "\n",
       "    .dataframe tbody tr th {\n",
       "        vertical-align: top;\n",
       "    }\n",
       "\n",
       "    .dataframe thead th {\n",
       "        text-align: right;\n",
       "    }\n",
       "</style>\n",
       "<table border=\"1\" class=\"dataframe\">\n",
       "  <thead>\n",
       "    <tr style=\"text-align: right;\">\n",
       "      <th></th>\n",
       "      <th>0</th>\n",
       "      <th>1</th>\n",
       "      <th>2</th>\n",
       "      <th>3</th>\n",
       "      <th>4</th>\n",
       "      <th>5</th>\n",
       "      <th>6</th>\n",
       "      <th>7</th>\n",
       "      <th>8</th>\n",
       "      <th>9</th>\n",
       "      <th>...</th>\n",
       "      <th>590</th>\n",
       "      <th>591</th>\n",
       "      <th>592</th>\n",
       "      <th>593</th>\n",
       "      <th>594</th>\n",
       "      <th>595</th>\n",
       "      <th>596</th>\n",
       "      <th>597</th>\n",
       "      <th>598</th>\n",
       "      <th>599</th>\n",
       "    </tr>\n",
       "  </thead>\n",
       "  <tbody>\n",
       "    <tr>\n",
       "      <th>Toy Story (1995)</th>\n",
       "      <td>0.050362</td>\n",
       "      <td>-0.001778</td>\n",
       "      <td>0.055573</td>\n",
       "      <td>0.005640</td>\n",
       "      <td>0.043943</td>\n",
       "      <td>0.050898</td>\n",
       "      <td>-0.117772</td>\n",
       "      <td>0.319090</td>\n",
       "      <td>0.192440</td>\n",
       "      <td>-0.053129</td>\n",
       "      <td>...</td>\n",
       "      <td>0.004665</td>\n",
       "      <td>-0.001378</td>\n",
       "      <td>0.017434</td>\n",
       "      <td>-0.009857</td>\n",
       "      <td>0.023548</td>\n",
       "      <td>-0.009604</td>\n",
       "      <td>-0.001589</td>\n",
       "      <td>0.021099</td>\n",
       "      <td>0.002423</td>\n",
       "      <td>-0.005131</td>\n",
       "    </tr>\n",
       "    <tr>\n",
       "      <th>Jumanji (1995)</th>\n",
       "      <td>0.025588</td>\n",
       "      <td>-0.000516</td>\n",
       "      <td>0.011175</td>\n",
       "      <td>0.004361</td>\n",
       "      <td>0.048153</td>\n",
       "      <td>0.036779</td>\n",
       "      <td>-0.044411</td>\n",
       "      <td>0.111112</td>\n",
       "      <td>0.004483</td>\n",
       "      <td>0.029162</td>\n",
       "      <td>...</td>\n",
       "      <td>-0.007389</td>\n",
       "      <td>-0.011185</td>\n",
       "      <td>-0.003799</td>\n",
       "      <td>-0.004784</td>\n",
       "      <td>0.009848</td>\n",
       "      <td>-0.004558</td>\n",
       "      <td>-0.002209</td>\n",
       "      <td>-0.000642</td>\n",
       "      <td>-0.015983</td>\n",
       "      <td>-0.003604</td>\n",
       "    </tr>\n",
       "    <tr>\n",
       "      <th>Grumpier Old Men (1995)</th>\n",
       "      <td>0.042384</td>\n",
       "      <td>-0.001912</td>\n",
       "      <td>0.041486</td>\n",
       "      <td>0.000451</td>\n",
       "      <td>0.007682</td>\n",
       "      <td>0.052802</td>\n",
       "      <td>0.015389</td>\n",
       "      <td>0.009524</td>\n",
       "      <td>-0.003024</td>\n",
       "      <td>0.021683</td>\n",
       "      <td>...</td>\n",
       "      <td>0.009303</td>\n",
       "      <td>-0.005511</td>\n",
       "      <td>-0.002148</td>\n",
       "      <td>-0.009024</td>\n",
       "      <td>0.006887</td>\n",
       "      <td>0.011706</td>\n",
       "      <td>0.008896</td>\n",
       "      <td>0.007243</td>\n",
       "      <td>0.007960</td>\n",
       "      <td>0.012483</td>\n",
       "    </tr>\n",
       "    <tr>\n",
       "      <th>Waiting to Exhale (1995)</th>\n",
       "      <td>0.065064</td>\n",
       "      <td>-0.002346</td>\n",
       "      <td>0.016723</td>\n",
       "      <td>0.001338</td>\n",
       "      <td>0.008249</td>\n",
       "      <td>0.054601</td>\n",
       "      <td>0.010321</td>\n",
       "      <td>0.021052</td>\n",
       "      <td>0.001231</td>\n",
       "      <td>0.051446</td>\n",
       "      <td>...</td>\n",
       "      <td>0.015391</td>\n",
       "      <td>0.023579</td>\n",
       "      <td>0.008512</td>\n",
       "      <td>-0.000648</td>\n",
       "      <td>-0.003515</td>\n",
       "      <td>-0.008738</td>\n",
       "      <td>-0.024075</td>\n",
       "      <td>-0.020398</td>\n",
       "      <td>0.022665</td>\n",
       "      <td>-0.011607</td>\n",
       "    </tr>\n",
       "    <tr>\n",
       "      <th>Father of the Bride Part II (1995)</th>\n",
       "      <td>0.080086</td>\n",
       "      <td>-0.002259</td>\n",
       "      <td>0.060750</td>\n",
       "      <td>0.002554</td>\n",
       "      <td>0.015704</td>\n",
       "      <td>0.006735</td>\n",
       "      <td>-0.016935</td>\n",
       "      <td>0.045292</td>\n",
       "      <td>0.003398</td>\n",
       "      <td>0.056976</td>\n",
       "      <td>...</td>\n",
       "      <td>-0.009148</td>\n",
       "      <td>-0.017940</td>\n",
       "      <td>-0.013242</td>\n",
       "      <td>0.007652</td>\n",
       "      <td>-0.002120</td>\n",
       "      <td>0.006456</td>\n",
       "      <td>0.001508</td>\n",
       "      <td>-0.008929</td>\n",
       "      <td>-0.019758</td>\n",
       "      <td>0.016403</td>\n",
       "    </tr>\n",
       "  </tbody>\n",
       "</table>\n",
       "<p>5 rows × 600 columns</p>\n",
       "</div>"
      ],
      "text/plain": [
       "                                         0         1         2         3    \\\n",
       "Toy Story (1995)                    0.050362 -0.001778  0.055573  0.005640   \n",
       "Jumanji (1995)                      0.025588 -0.000516  0.011175  0.004361   \n",
       "Grumpier Old Men (1995)             0.042384 -0.001912  0.041486  0.000451   \n",
       "Waiting to Exhale (1995)            0.065064 -0.002346  0.016723  0.001338   \n",
       "Father of the Bride Part II (1995)  0.080086 -0.002259  0.060750  0.002554   \n",
       "\n",
       "                                         4         5         6         7    \\\n",
       "Toy Story (1995)                    0.043943  0.050898 -0.117772  0.319090   \n",
       "Jumanji (1995)                      0.048153  0.036779 -0.044411  0.111112   \n",
       "Grumpier Old Men (1995)             0.007682  0.052802  0.015389  0.009524   \n",
       "Waiting to Exhale (1995)            0.008249  0.054601  0.010321  0.021052   \n",
       "Father of the Bride Part II (1995)  0.015704  0.006735 -0.016935  0.045292   \n",
       "\n",
       "                                         8         9    ...       590  \\\n",
       "Toy Story (1995)                    0.192440 -0.053129  ...  0.004665   \n",
       "Jumanji (1995)                      0.004483  0.029162  ... -0.007389   \n",
       "Grumpier Old Men (1995)            -0.003024  0.021683  ...  0.009303   \n",
       "Waiting to Exhale (1995)            0.001231  0.051446  ...  0.015391   \n",
       "Father of the Bride Part II (1995)  0.003398  0.056976  ... -0.009148   \n",
       "\n",
       "                                         591       592       593       594  \\\n",
       "Toy Story (1995)                   -0.001378  0.017434 -0.009857  0.023548   \n",
       "Jumanji (1995)                     -0.011185 -0.003799 -0.004784  0.009848   \n",
       "Grumpier Old Men (1995)            -0.005511 -0.002148 -0.009024  0.006887   \n",
       "Waiting to Exhale (1995)            0.023579  0.008512 -0.000648 -0.003515   \n",
       "Father of the Bride Part II (1995) -0.017940 -0.013242  0.007652 -0.002120   \n",
       "\n",
       "                                         595       596       597       598  \\\n",
       "Toy Story (1995)                   -0.009604 -0.001589  0.021099  0.002423   \n",
       "Jumanji (1995)                     -0.004558 -0.002209 -0.000642 -0.015983   \n",
       "Grumpier Old Men (1995)             0.011706  0.008896  0.007243  0.007960   \n",
       "Waiting to Exhale (1995)           -0.008738 -0.024075 -0.020398  0.022665   \n",
       "Father of the Bride Part II (1995)  0.006456  0.001508 -0.008929 -0.019758   \n",
       "\n",
       "                                         599  \n",
       "Toy Story (1995)                   -0.005131  \n",
       "Jumanji (1995)                     -0.003604  \n",
       "Grumpier Old Men (1995)             0.012483  \n",
       "Waiting to Exhale (1995)           -0.011607  \n",
       "Father of the Bride Part II (1995)  0.016403  \n",
       "\n",
       "[5 rows x 600 columns]"
      ]
     },
     "execution_count": 287,
     "metadata": {},
     "output_type": "execute_result"
    }
   ],
   "source": [
    "latent_content_df.head()"
   ]
  },
  {
   "cell_type": "markdown",
   "metadata": {},
   "source": [
    "### Coollaborative filtering; latent matrix from user ratings"
   ]
  },
  {
   "cell_type": "code",
   "execution_count": 161,
   "metadata": {},
   "outputs": [
    {
     "data": {
      "text/html": [
       "<div>\n",
       "<style scoped>\n",
       "    .dataframe tbody tr th:only-of-type {\n",
       "        vertical-align: middle;\n",
       "    }\n",
       "\n",
       "    .dataframe tbody tr th {\n",
       "        vertical-align: top;\n",
       "    }\n",
       "\n",
       "    .dataframe thead th {\n",
       "        text-align: right;\n",
       "    }\n",
       "</style>\n",
       "<table border=\"1\" class=\"dataframe\">\n",
       "  <thead>\n",
       "    <tr style=\"text-align: right;\">\n",
       "      <th></th>\n",
       "      <th>userId</th>\n",
       "      <th>movieId</th>\n",
       "      <th>rating</th>\n",
       "    </tr>\n",
       "  </thead>\n",
       "  <tbody>\n",
       "    <tr>\n",
       "      <th>1</th>\n",
       "      <td>106343</td>\n",
       "      <td>5</td>\n",
       "      <td>4.5</td>\n",
       "    </tr>\n",
       "    <tr>\n",
       "      <th>3</th>\n",
       "      <td>106362</td>\n",
       "      <td>32296</td>\n",
       "      <td>2.0</td>\n",
       "    </tr>\n",
       "  </tbody>\n",
       "</table>\n",
       "</div>"
      ],
      "text/plain": [
       "   userId  movieId  rating\n",
       "1  106343        5     4.5\n",
       "3  106362    32296     2.0"
      ]
     },
     "execution_count": 161,
     "metadata": {},
     "output_type": "execute_result"
    }
   ],
   "source": [
    "train_f.head(2)"
   ]
  },
  {
   "cell_type": "code",
   "execution_count": 227,
   "metadata": {},
   "outputs": [
    {
     "data": {
      "text/plain": [
       "(5795349, 3)"
      ]
     },
     "execution_count": 227,
     "metadata": {},
     "output_type": "execute_result"
    }
   ],
   "source": [
    "train_f.shape"
   ]
  },
  {
   "cell_type": "code",
   "execution_count": 233,
   "metadata": {},
   "outputs": [],
   "source": [
    "ratings1 = pd.merge(movies[[\"movieId\"]], train_f, on=\"movieId\", how=\"outer\").fillna(0)"
   ]
  },
  {
   "cell_type": "code",
   "execution_count": 245,
   "metadata": {},
   "outputs": [
    {
     "name": "stdout",
     "output_type": "stream",
     "text": [
      "<class 'pandas.core.frame.DataFrame'>\n",
      "Int64Index: 5810524 entries, 0 to 5810523\n",
      "Data columns (total 3 columns):\n",
      " #   Column   Dtype  \n",
      "---  ------   -----  \n",
      " 0   movieId  int64  \n",
      " 1   userId   float64\n",
      " 2   rating   float64\n",
      "dtypes: float64(2), int64(1)\n",
      "memory usage: 177.3 MB\n"
     ]
    }
   ],
   "source": [
    "ratings1.info()"
   ]
  },
  {
   "cell_type": "code",
   "execution_count": 248,
   "metadata": {},
   "outputs": [],
   "source": [
    "ratings1[\"rating\"] = ratings1[\"rating\"].astype(\"float32\")"
   ]
  },
  {
   "cell_type": "code",
   "execution_count": 249,
   "metadata": {},
   "outputs": [
    {
     "name": "stdout",
     "output_type": "stream",
     "text": [
      "<class 'pandas.core.frame.DataFrame'>\n",
      "Int64Index: 5810524 entries, 0 to 5810523\n",
      "Data columns (total 3 columns):\n",
      " #   Column   Dtype  \n",
      "---  ------   -----  \n",
      " 0   movieId  int64  \n",
      " 1   userId   float64\n",
      " 2   rating   float32\n",
      "dtypes: float32(1), float64(1), int64(1)\n",
      "memory usage: 155.2 MB\n"
     ]
    }
   ],
   "source": [
    "ratings1.info()"
   ]
  },
  {
   "cell_type": "code",
   "execution_count": 250,
   "metadata": {},
   "outputs": [],
   "source": [
    "ratings2 = ratings1.pivot(index=\"movieId\", columns=\"userId\", values=\"rating\").fillna(0)"
   ]
  },
  {
   "cell_type": "code",
   "execution_count": 251,
   "metadata": {},
   "outputs": [
    {
     "data": {
      "text/html": [
       "<div>\n",
       "<style scoped>\n",
       "    .dataframe tbody tr th:only-of-type {\n",
       "        vertical-align: middle;\n",
       "    }\n",
       "\n",
       "    .dataframe tbody tr th {\n",
       "        vertical-align: top;\n",
       "    }\n",
       "\n",
       "    .dataframe thead th {\n",
       "        text-align: right;\n",
       "    }\n",
       "</style>\n",
       "<table border=\"1\" class=\"dataframe\">\n",
       "  <thead>\n",
       "    <tr style=\"text-align: right;\">\n",
       "      <th>userId</th>\n",
       "      <th>0.0</th>\n",
       "      <th>3.0</th>\n",
       "      <th>12.0</th>\n",
       "      <th>13.0</th>\n",
       "      <th>19.0</th>\n",
       "      <th>23.0</th>\n",
       "      <th>31.0</th>\n",
       "      <th>43.0</th>\n",
       "      <th>57.0</th>\n",
       "      <th>59.0</th>\n",
       "      <th>...</th>\n",
       "      <th>162495.0</th>\n",
       "      <th>162498.0</th>\n",
       "      <th>162508.0</th>\n",
       "      <th>162512.0</th>\n",
       "      <th>162516.0</th>\n",
       "      <th>162519.0</th>\n",
       "      <th>162521.0</th>\n",
       "      <th>162529.0</th>\n",
       "      <th>162533.0</th>\n",
       "      <th>162534.0</th>\n",
       "    </tr>\n",
       "    <tr>\n",
       "      <th>movieId</th>\n",
       "      <th></th>\n",
       "      <th></th>\n",
       "      <th></th>\n",
       "      <th></th>\n",
       "      <th></th>\n",
       "      <th></th>\n",
       "      <th></th>\n",
       "      <th></th>\n",
       "      <th></th>\n",
       "      <th></th>\n",
       "      <th></th>\n",
       "      <th></th>\n",
       "      <th></th>\n",
       "      <th></th>\n",
       "      <th></th>\n",
       "      <th></th>\n",
       "      <th></th>\n",
       "      <th></th>\n",
       "      <th></th>\n",
       "      <th></th>\n",
       "      <th></th>\n",
       "    </tr>\n",
       "  </thead>\n",
       "  <tbody>\n",
       "    <tr>\n",
       "      <th>1</th>\n",
       "      <td>0.0</td>\n",
       "      <td>0.0</td>\n",
       "      <td>0.0</td>\n",
       "      <td>4.0</td>\n",
       "      <td>0.0</td>\n",
       "      <td>0.0</td>\n",
       "      <td>0.0</td>\n",
       "      <td>4.0</td>\n",
       "      <td>0.0</td>\n",
       "      <td>0.0</td>\n",
       "      <td>...</td>\n",
       "      <td>3.0</td>\n",
       "      <td>3.5</td>\n",
       "      <td>4.5</td>\n",
       "      <td>4.0</td>\n",
       "      <td>0.0</td>\n",
       "      <td>0.0</td>\n",
       "      <td>0.0</td>\n",
       "      <td>0.0</td>\n",
       "      <td>0.0</td>\n",
       "      <td>0.0</td>\n",
       "    </tr>\n",
       "    <tr>\n",
       "      <th>2</th>\n",
       "      <td>0.0</td>\n",
       "      <td>0.0</td>\n",
       "      <td>0.0</td>\n",
       "      <td>0.0</td>\n",
       "      <td>3.5</td>\n",
       "      <td>0.0</td>\n",
       "      <td>0.0</td>\n",
       "      <td>3.5</td>\n",
       "      <td>0.0</td>\n",
       "      <td>0.0</td>\n",
       "      <td>...</td>\n",
       "      <td>3.0</td>\n",
       "      <td>0.0</td>\n",
       "      <td>0.0</td>\n",
       "      <td>3.5</td>\n",
       "      <td>2.5</td>\n",
       "      <td>2.0</td>\n",
       "      <td>0.0</td>\n",
       "      <td>4.0</td>\n",
       "      <td>0.0</td>\n",
       "      <td>0.0</td>\n",
       "    </tr>\n",
       "    <tr>\n",
       "      <th>3</th>\n",
       "      <td>0.0</td>\n",
       "      <td>0.0</td>\n",
       "      <td>0.0</td>\n",
       "      <td>0.0</td>\n",
       "      <td>0.0</td>\n",
       "      <td>0.0</td>\n",
       "      <td>0.0</td>\n",
       "      <td>0.0</td>\n",
       "      <td>0.0</td>\n",
       "      <td>0.0</td>\n",
       "      <td>...</td>\n",
       "      <td>0.0</td>\n",
       "      <td>0.0</td>\n",
       "      <td>0.0</td>\n",
       "      <td>0.0</td>\n",
       "      <td>0.0</td>\n",
       "      <td>0.0</td>\n",
       "      <td>0.0</td>\n",
       "      <td>0.0</td>\n",
       "      <td>0.0</td>\n",
       "      <td>0.0</td>\n",
       "    </tr>\n",
       "    <tr>\n",
       "      <th>4</th>\n",
       "      <td>0.0</td>\n",
       "      <td>0.0</td>\n",
       "      <td>0.0</td>\n",
       "      <td>0.0</td>\n",
       "      <td>0.0</td>\n",
       "      <td>0.0</td>\n",
       "      <td>0.0</td>\n",
       "      <td>0.0</td>\n",
       "      <td>0.0</td>\n",
       "      <td>0.0</td>\n",
       "      <td>...</td>\n",
       "      <td>0.0</td>\n",
       "      <td>0.0</td>\n",
       "      <td>0.0</td>\n",
       "      <td>0.0</td>\n",
       "      <td>0.0</td>\n",
       "      <td>0.0</td>\n",
       "      <td>0.0</td>\n",
       "      <td>0.0</td>\n",
       "      <td>0.0</td>\n",
       "      <td>0.0</td>\n",
       "    </tr>\n",
       "    <tr>\n",
       "      <th>5</th>\n",
       "      <td>0.0</td>\n",
       "      <td>0.0</td>\n",
       "      <td>0.0</td>\n",
       "      <td>0.0</td>\n",
       "      <td>0.0</td>\n",
       "      <td>0.0</td>\n",
       "      <td>0.0</td>\n",
       "      <td>0.0</td>\n",
       "      <td>0.0</td>\n",
       "      <td>0.0</td>\n",
       "      <td>...</td>\n",
       "      <td>0.0</td>\n",
       "      <td>0.0</td>\n",
       "      <td>0.0</td>\n",
       "      <td>3.5</td>\n",
       "      <td>0.0</td>\n",
       "      <td>0.0</td>\n",
       "      <td>0.0</td>\n",
       "      <td>0.0</td>\n",
       "      <td>0.0</td>\n",
       "      <td>0.0</td>\n",
       "    </tr>\n",
       "    <tr>\n",
       "      <th>...</th>\n",
       "      <td>...</td>\n",
       "      <td>...</td>\n",
       "      <td>...</td>\n",
       "      <td>...</td>\n",
       "      <td>...</td>\n",
       "      <td>...</td>\n",
       "      <td>...</td>\n",
       "      <td>...</td>\n",
       "      <td>...</td>\n",
       "      <td>...</td>\n",
       "      <td>...</td>\n",
       "      <td>...</td>\n",
       "      <td>...</td>\n",
       "      <td>...</td>\n",
       "      <td>...</td>\n",
       "      <td>...</td>\n",
       "      <td>...</td>\n",
       "      <td>...</td>\n",
       "      <td>...</td>\n",
       "      <td>...</td>\n",
       "      <td>...</td>\n",
       "    </tr>\n",
       "    <tr>\n",
       "      <th>209157</th>\n",
       "      <td>0.0</td>\n",
       "      <td>0.0</td>\n",
       "      <td>0.0</td>\n",
       "      <td>0.0</td>\n",
       "      <td>0.0</td>\n",
       "      <td>0.0</td>\n",
       "      <td>0.0</td>\n",
       "      <td>0.0</td>\n",
       "      <td>0.0</td>\n",
       "      <td>0.0</td>\n",
       "      <td>...</td>\n",
       "      <td>0.0</td>\n",
       "      <td>0.0</td>\n",
       "      <td>0.0</td>\n",
       "      <td>0.0</td>\n",
       "      <td>0.0</td>\n",
       "      <td>0.0</td>\n",
       "      <td>0.0</td>\n",
       "      <td>0.0</td>\n",
       "      <td>0.0</td>\n",
       "      <td>0.0</td>\n",
       "    </tr>\n",
       "    <tr>\n",
       "      <th>209159</th>\n",
       "      <td>0.0</td>\n",
       "      <td>0.0</td>\n",
       "      <td>0.0</td>\n",
       "      <td>0.0</td>\n",
       "      <td>0.0</td>\n",
       "      <td>0.0</td>\n",
       "      <td>0.0</td>\n",
       "      <td>0.0</td>\n",
       "      <td>0.0</td>\n",
       "      <td>0.0</td>\n",
       "      <td>...</td>\n",
       "      <td>0.0</td>\n",
       "      <td>0.0</td>\n",
       "      <td>0.0</td>\n",
       "      <td>0.0</td>\n",
       "      <td>0.0</td>\n",
       "      <td>0.0</td>\n",
       "      <td>0.0</td>\n",
       "      <td>0.0</td>\n",
       "      <td>0.0</td>\n",
       "      <td>0.0</td>\n",
       "    </tr>\n",
       "    <tr>\n",
       "      <th>209163</th>\n",
       "      <td>0.0</td>\n",
       "      <td>0.0</td>\n",
       "      <td>0.0</td>\n",
       "      <td>0.0</td>\n",
       "      <td>0.0</td>\n",
       "      <td>0.0</td>\n",
       "      <td>0.0</td>\n",
       "      <td>0.0</td>\n",
       "      <td>0.0</td>\n",
       "      <td>0.0</td>\n",
       "      <td>...</td>\n",
       "      <td>0.0</td>\n",
       "      <td>0.0</td>\n",
       "      <td>0.0</td>\n",
       "      <td>0.0</td>\n",
       "      <td>0.0</td>\n",
       "      <td>0.0</td>\n",
       "      <td>0.0</td>\n",
       "      <td>0.0</td>\n",
       "      <td>0.0</td>\n",
       "      <td>0.0</td>\n",
       "    </tr>\n",
       "    <tr>\n",
       "      <th>209169</th>\n",
       "      <td>0.0</td>\n",
       "      <td>0.0</td>\n",
       "      <td>0.0</td>\n",
       "      <td>0.0</td>\n",
       "      <td>0.0</td>\n",
       "      <td>0.0</td>\n",
       "      <td>0.0</td>\n",
       "      <td>0.0</td>\n",
       "      <td>0.0</td>\n",
       "      <td>0.0</td>\n",
       "      <td>...</td>\n",
       "      <td>0.0</td>\n",
       "      <td>0.0</td>\n",
       "      <td>0.0</td>\n",
       "      <td>0.0</td>\n",
       "      <td>0.0</td>\n",
       "      <td>0.0</td>\n",
       "      <td>0.0</td>\n",
       "      <td>0.0</td>\n",
       "      <td>0.0</td>\n",
       "      <td>0.0</td>\n",
       "    </tr>\n",
       "    <tr>\n",
       "      <th>209171</th>\n",
       "      <td>0.0</td>\n",
       "      <td>0.0</td>\n",
       "      <td>0.0</td>\n",
       "      <td>0.0</td>\n",
       "      <td>0.0</td>\n",
       "      <td>0.0</td>\n",
       "      <td>0.0</td>\n",
       "      <td>0.0</td>\n",
       "      <td>0.0</td>\n",
       "      <td>0.0</td>\n",
       "      <td>...</td>\n",
       "      <td>0.0</td>\n",
       "      <td>0.0</td>\n",
       "      <td>0.0</td>\n",
       "      <td>0.0</td>\n",
       "      <td>0.0</td>\n",
       "      <td>0.0</td>\n",
       "      <td>0.0</td>\n",
       "      <td>0.0</td>\n",
       "      <td>0.0</td>\n",
       "      <td>0.0</td>\n",
       "    </tr>\n",
       "  </tbody>\n",
       "</table>\n",
       "<p>62423 rows × 25657 columns</p>\n",
       "</div>"
      ],
      "text/plain": [
       "userId   0.0       3.0       12.0      13.0      19.0      23.0      31.0      \\\n",
       "movieId                                                                         \n",
       "1             0.0       0.0       0.0       4.0       0.0       0.0       0.0   \n",
       "2             0.0       0.0       0.0       0.0       3.5       0.0       0.0   \n",
       "3             0.0       0.0       0.0       0.0       0.0       0.0       0.0   \n",
       "4             0.0       0.0       0.0       0.0       0.0       0.0       0.0   \n",
       "5             0.0       0.0       0.0       0.0       0.0       0.0       0.0   \n",
       "...           ...       ...       ...       ...       ...       ...       ...   \n",
       "209157        0.0       0.0       0.0       0.0       0.0       0.0       0.0   \n",
       "209159        0.0       0.0       0.0       0.0       0.0       0.0       0.0   \n",
       "209163        0.0       0.0       0.0       0.0       0.0       0.0       0.0   \n",
       "209169        0.0       0.0       0.0       0.0       0.0       0.0       0.0   \n",
       "209171        0.0       0.0       0.0       0.0       0.0       0.0       0.0   \n",
       "\n",
       "userId   43.0      57.0      59.0      ...  162495.0  162498.0  162508.0  \\\n",
       "movieId                                ...                                 \n",
       "1             4.0       0.0       0.0  ...       3.0       3.5       4.5   \n",
       "2             3.5       0.0       0.0  ...       3.0       0.0       0.0   \n",
       "3             0.0       0.0       0.0  ...       0.0       0.0       0.0   \n",
       "4             0.0       0.0       0.0  ...       0.0       0.0       0.0   \n",
       "5             0.0       0.0       0.0  ...       0.0       0.0       0.0   \n",
       "...           ...       ...       ...  ...       ...       ...       ...   \n",
       "209157        0.0       0.0       0.0  ...       0.0       0.0       0.0   \n",
       "209159        0.0       0.0       0.0  ...       0.0       0.0       0.0   \n",
       "209163        0.0       0.0       0.0  ...       0.0       0.0       0.0   \n",
       "209169        0.0       0.0       0.0  ...       0.0       0.0       0.0   \n",
       "209171        0.0       0.0       0.0  ...       0.0       0.0       0.0   \n",
       "\n",
       "userId   162512.0  162516.0  162519.0  162521.0  162529.0  162533.0  162534.0  \n",
       "movieId                                                                        \n",
       "1             4.0       0.0       0.0       0.0       0.0       0.0       0.0  \n",
       "2             3.5       2.5       2.0       0.0       4.0       0.0       0.0  \n",
       "3             0.0       0.0       0.0       0.0       0.0       0.0       0.0  \n",
       "4             0.0       0.0       0.0       0.0       0.0       0.0       0.0  \n",
       "5             3.5       0.0       0.0       0.0       0.0       0.0       0.0  \n",
       "...           ...       ...       ...       ...       ...       ...       ...  \n",
       "209157        0.0       0.0       0.0       0.0       0.0       0.0       0.0  \n",
       "209159        0.0       0.0       0.0       0.0       0.0       0.0       0.0  \n",
       "209163        0.0       0.0       0.0       0.0       0.0       0.0       0.0  \n",
       "209169        0.0       0.0       0.0       0.0       0.0       0.0       0.0  \n",
       "209171        0.0       0.0       0.0       0.0       0.0       0.0       0.0  \n",
       "\n",
       "[62423 rows x 25657 columns]"
      ]
     },
     "execution_count": 251,
     "metadata": {},
     "output_type": "execute_result"
    }
   ],
   "source": [
    "ratings2"
   ]
  },
  {
   "cell_type": "code",
   "execution_count": 252,
   "metadata": {},
   "outputs": [],
   "source": [
    "ratings_arr = ratings2.to_numpy() # convert to numpy array"
   ]
  },
  {
   "cell_type": "code",
   "execution_count": 257,
   "metadata": {},
   "outputs": [],
   "source": [
    "# compress with SVD\n",
    "\n",
    "n_collab = 800\n",
    "svd_collab = TruncatedSVD(n_components=n_collab)\n",
    "latent_collab = svd_collab.fit_transform(ratings_arr)"
   ]
  },
  {
   "cell_type": "code",
   "execution_count": 258,
   "metadata": {},
   "outputs": [
    {
     "data": {
      "image/png": "[encoded data removed]",
      "text/plain": [
       "<Figure size 720x504 with 1 Axes>"
      ]
     },
     "metadata": {},
     "output_type": "display_data"
    }
   ],
   "source": [
    "# plot variance explained tochoose latent dimensions\n",
    "\n",
    "explained_collab = svd_collab.explained_variance_ratio_.cumsum()\n",
    "plt.plot(explained_collab, \".-\", ms=16, color=\"blue\")\n",
    "plt.xlabel(\"singular value components\", fontsize=12)\n",
    "plt.ylabel(\"cumulative percent of variance\", fontsize=12)\n",
    "plt.show()"
   ]
  },
  {
   "cell_type": "code",
   "execution_count": 259,
   "metadata": {},
   "outputs": [
    {
     "data": {
      "text/plain": [
       "(62423, 800)"
      ]
     },
     "execution_count": 259,
     "metadata": {},
     "output_type": "execute_result"
    }
   ],
   "source": [
    "latent_collab.shape"
   ]
  },
  {
   "cell_type": "code",
   "execution_count": 283,
   "metadata": {},
   "outputs": [],
   "source": [
    "latent_collab_df = pd.DataFrame(latent_collab, index=title_list)"
   ]
  },
  {
   "cell_type": "code",
   "execution_count": 290,
   "metadata": {},
   "outputs": [
    {
     "data": {
      "text/html": [
       "<div>\n",
       "<style scoped>\n",
       "    .dataframe tbody tr th:only-of-type {\n",
       "        vertical-align: middle;\n",
       "    }\n",
       "\n",
       "    .dataframe tbody tr th {\n",
       "        vertical-align: top;\n",
       "    }\n",
       "\n",
       "    .dataframe thead th {\n",
       "        text-align: right;\n",
       "    }\n",
       "</style>\n",
       "<table border=\"1\" class=\"dataframe\">\n",
       "  <thead>\n",
       "    <tr style=\"text-align: right;\">\n",
       "      <th></th>\n",
       "      <th>0</th>\n",
       "      <th>1</th>\n",
       "      <th>2</th>\n",
       "      <th>3</th>\n",
       "      <th>4</th>\n",
       "      <th>5</th>\n",
       "      <th>6</th>\n",
       "      <th>7</th>\n",
       "      <th>8</th>\n",
       "      <th>9</th>\n",
       "      <th>...</th>\n",
       "      <th>790</th>\n",
       "      <th>791</th>\n",
       "      <th>792</th>\n",
       "      <th>793</th>\n",
       "      <th>794</th>\n",
       "      <th>795</th>\n",
       "      <th>796</th>\n",
       "      <th>797</th>\n",
       "      <th>798</th>\n",
       "      <th>799</th>\n",
       "    </tr>\n",
       "  </thead>\n",
       "  <tbody>\n",
       "    <tr>\n",
       "      <th>Toy Story (1995)</th>\n",
       "      <td>181.593658</td>\n",
       "      <td>-0.583791</td>\n",
       "      <td>-24.201649</td>\n",
       "      <td>13.694648</td>\n",
       "      <td>56.142464</td>\n",
       "      <td>-28.047873</td>\n",
       "      <td>11.562922</td>\n",
       "      <td>-11.764060</td>\n",
       "      <td>-3.252089</td>\n",
       "      <td>-20.728939</td>\n",
       "      <td>...</td>\n",
       "      <td>-0.087444</td>\n",
       "      <td>-0.291523</td>\n",
       "      <td>-0.630893</td>\n",
       "      <td>0.311234</td>\n",
       "      <td>0.301245</td>\n",
       "      <td>0.860881</td>\n",
       "      <td>-0.132217</td>\n",
       "      <td>-0.092605</td>\n",
       "      <td>-0.256820</td>\n",
       "      <td>-0.473042</td>\n",
       "    </tr>\n",
       "    <tr>\n",
       "      <th>Jumanji (1995)</th>\n",
       "      <td>90.601822</td>\n",
       "      <td>8.901838</td>\n",
       "      <td>-33.725597</td>\n",
       "      <td>-6.204938</td>\n",
       "      <td>14.234217</td>\n",
       "      <td>-6.512198</td>\n",
       "      <td>11.802094</td>\n",
       "      <td>-3.421430</td>\n",
       "      <td>-20.635080</td>\n",
       "      <td>-22.625195</td>\n",
       "      <td>...</td>\n",
       "      <td>-2.049673</td>\n",
       "      <td>-1.058759</td>\n",
       "      <td>1.622511</td>\n",
       "      <td>1.441127</td>\n",
       "      <td>2.916439</td>\n",
       "      <td>0.309059</td>\n",
       "      <td>0.976036</td>\n",
       "      <td>-1.724042</td>\n",
       "      <td>-2.868679</td>\n",
       "      <td>-1.055285</td>\n",
       "    </tr>\n",
       "    <tr>\n",
       "      <th>Grumpier Old Men (1995)</th>\n",
       "      <td>32.482090</td>\n",
       "      <td>-15.980772</td>\n",
       "      <td>-18.163450</td>\n",
       "      <td>-10.115777</td>\n",
       "      <td>-2.681232</td>\n",
       "      <td>-4.177547</td>\n",
       "      <td>-7.574389</td>\n",
       "      <td>-6.875144</td>\n",
       "      <td>-2.157676</td>\n",
       "      <td>-12.106486</td>\n",
       "      <td>...</td>\n",
       "      <td>0.604262</td>\n",
       "      <td>0.273068</td>\n",
       "      <td>-2.155736</td>\n",
       "      <td>1.304976</td>\n",
       "      <td>-0.864551</td>\n",
       "      <td>4.534962</td>\n",
       "      <td>-4.363862</td>\n",
       "      <td>0.235149</td>\n",
       "      <td>1.044138</td>\n",
       "      <td>1.848525</td>\n",
       "    </tr>\n",
       "    <tr>\n",
       "      <th>Waiting to Exhale (1995)</th>\n",
       "      <td>6.941877</td>\n",
       "      <td>-7.102573</td>\n",
       "      <td>-1.287683</td>\n",
       "      <td>-5.174901</td>\n",
       "      <td>0.981912</td>\n",
       "      <td>-1.883943</td>\n",
       "      <td>-4.562819</td>\n",
       "      <td>-4.642936</td>\n",
       "      <td>-5.168730</td>\n",
       "      <td>-1.196314</td>\n",
       "      <td>...</td>\n",
       "      <td>-0.539876</td>\n",
       "      <td>0.222213</td>\n",
       "      <td>0.639961</td>\n",
       "      <td>-0.123676</td>\n",
       "      <td>-0.082594</td>\n",
       "      <td>0.532133</td>\n",
       "      <td>-0.542672</td>\n",
       "      <td>-0.177541</td>\n",
       "      <td>0.573306</td>\n",
       "      <td>0.251508</td>\n",
       "    </tr>\n",
       "    <tr>\n",
       "      <th>Father of the Bride Part II (1995)</th>\n",
       "      <td>29.654118</td>\n",
       "      <td>-11.032208</td>\n",
       "      <td>-14.727400</td>\n",
       "      <td>-13.412518</td>\n",
       "      <td>-0.863723</td>\n",
       "      <td>-8.109450</td>\n",
       "      <td>-5.669191</td>\n",
       "      <td>-7.719187</td>\n",
       "      <td>-5.076776</td>\n",
       "      <td>-9.659540</td>\n",
       "      <td>...</td>\n",
       "      <td>2.315990</td>\n",
       "      <td>2.003396</td>\n",
       "      <td>1.123084</td>\n",
       "      <td>-2.393458</td>\n",
       "      <td>-1.001155</td>\n",
       "      <td>6.382482</td>\n",
       "      <td>2.693324</td>\n",
       "      <td>4.446975</td>\n",
       "      <td>0.055133</td>\n",
       "      <td>-0.076314</td>\n",
       "    </tr>\n",
       "  </tbody>\n",
       "</table>\n",
       "<p>5 rows × 800 columns</p>\n",
       "</div>"
      ],
      "text/plain": [
       "                                           0          1          2    \\\n",
       "Toy Story (1995)                    181.593658  -0.583791 -24.201649   \n",
       "Jumanji (1995)                       90.601822   8.901838 -33.725597   \n",
       "Grumpier Old Men (1995)              32.482090 -15.980772 -18.163450   \n",
       "Waiting to Exhale (1995)              6.941877  -7.102573  -1.287683   \n",
       "Father of the Bride Part II (1995)   29.654118 -11.032208 -14.727400   \n",
       "\n",
       "                                          3          4          5    \\\n",
       "Toy Story (1995)                    13.694648  56.142464 -28.047873   \n",
       "Jumanji (1995)                      -6.204938  14.234217  -6.512198   \n",
       "Grumpier Old Men (1995)            -10.115777  -2.681232  -4.177547   \n",
       "Waiting to Exhale (1995)            -5.174901   0.981912  -1.883943   \n",
       "Father of the Bride Part II (1995) -13.412518  -0.863723  -8.109450   \n",
       "\n",
       "                                          6          7          8    \\\n",
       "Toy Story (1995)                    11.562922 -11.764060  -3.252089   \n",
       "Jumanji (1995)                      11.802094  -3.421430 -20.635080   \n",
       "Grumpier Old Men (1995)             -7.574389  -6.875144  -2.157676   \n",
       "Waiting to Exhale (1995)            -4.562819  -4.642936  -5.168730   \n",
       "Father of the Bride Part II (1995)  -5.669191  -7.719187  -5.076776   \n",
       "\n",
       "                                          9    ...       790       791  \\\n",
       "Toy Story (1995)                   -20.728939  ... -0.087444 -0.291523   \n",
       "Jumanji (1995)                     -22.625195  ... -2.049673 -1.058759   \n",
       "Grumpier Old Men (1995)            -12.106486  ...  0.604262  0.273068   \n",
       "Waiting to Exhale (1995)            -1.196314  ... -0.539876  0.222213   \n",
       "Father of the Bride Part II (1995)  -9.659540  ...  2.315990  2.003396   \n",
       "\n",
       "                                         792       793       794       795  \\\n",
       "Toy Story (1995)                   -0.630893  0.311234  0.301245  0.860881   \n",
       "Jumanji (1995)                      1.622511  1.441127  2.916439  0.309059   \n",
       "Grumpier Old Men (1995)            -2.155736  1.304976 -0.864551  4.534962   \n",
       "Waiting to Exhale (1995)            0.639961 -0.123676 -0.082594  0.532133   \n",
       "Father of the Bride Part II (1995)  1.123084 -2.393458 -1.001155  6.382482   \n",
       "\n",
       "                                         796       797       798       799  \n",
       "Toy Story (1995)                   -0.132217 -0.092605 -0.256820 -0.473042  \n",
       "Jumanji (1995)                      0.976036 -1.724042 -2.868679 -1.055285  \n",
       "Grumpier Old Men (1995)            -4.363862  0.235149  1.044138  1.848525  \n",
       "Waiting to Exhale (1995)           -0.542672 -0.177541  0.573306  0.251508  \n",
       "Father of the Bride Part II (1995)  2.693324  4.446975  0.055133 -0.076314  \n",
       "\n",
       "[5 rows x 800 columns]"
      ]
     },
     "execution_count": 290,
     "metadata": {},
     "output_type": "execute_result"
    }
   ],
   "source": [
    "latent_collab_df.head()"
   ]
  },
  {
   "cell_type": "markdown",
   "metadata": {},
   "source": [
    "### Content/collaborative and hybrid cosine similarity"
   ]
  },
  {
   "cell_type": "code",
   "execution_count": 322,
   "metadata": {},
   "outputs": [
    {
     "data": {
      "text/plain": [
       "(214, 377)"
      ]
     },
     "execution_count": 322,
     "metadata": {},
     "output_type": "execute_result"
    }
   ],
   "source": [
    "# predict rating of user, semple_user, for unseen movie, sample_movieId\n",
    "\n",
    "random_row = 5687\n",
    "\n",
    "semple_user = test.iloc[random_row].tolist()[0]\n",
    "sample_movieId = test.iloc[random_row].tolist()[1]\n",
    "semple_user, sample_movieId"
   ]
  },
  {
   "cell_type": "code",
   "execution_count": 324,
   "metadata": {},
   "outputs": [
    {
     "data": {
      "text/plain": [
       "'Speed (1994)'"
      ]
     },
     "execution_count": 324,
     "metadata": {},
     "output_type": "execute_result"
    }
   ],
   "source": [
    "sample_title = mapping_movie[sample_movieId]\n",
    "sample_title"
   ]
  },
  {
   "cell_type": "code",
   "execution_count": 327,
   "metadata": {},
   "outputs": [],
   "source": [
    "# extract content and collaborative latent vecor for sample_title\n",
    "\n",
    "check1 = np.array(latent_content_df.loc[sample_title]).reshape(1, -1)\n",
    "check2 = np.array(latent_collab_df.loc[sample_title]).reshape(1, -1)"
   ]
  },
  {
   "cell_type": "code",
   "execution_count": 328,
   "metadata": {},
   "outputs": [],
   "source": [
    "# evaluate similarity of sample_title wit others\n",
    "\n",
    "score1 = cosine_similarity(latent_content_df, check1).reshape(-1)\n",
    "score2 = cosine_similarity(latent_collab_df, check2).reshape(-1)"
   ]
  },
  {
   "cell_type": "code",
   "execution_count": 329,
   "metadata": {},
   "outputs": [],
   "source": [
    "hybrid = ((score1 + score2)/2.0)"
   ]
  },
  {
   "cell_type": "code",
   "execution_count": 330,
   "metadata": {},
   "outputs": [],
   "source": [
    "# DataFrame of similar movies\n",
    "\n",
    "dict_score = {\"content\": score1, \"collaborative\": score2, \"hybrid\": hybrid}\n",
    "similar_movies = pd.DataFrame(dict_score, index=latent_content_df.index)"
   ]
  },
  {
   "cell_type": "code",
   "execution_count": 361,
   "metadata": {},
   "outputs": [
    {
     "data": {
      "text/html": [
       "<div>\n",
       "<style scoped>\n",
       "    .dataframe tbody tr th:only-of-type {\n",
       "        vertical-align: middle;\n",
       "    }\n",
       "\n",
       "    .dataframe tbody tr th {\n",
       "        vertical-align: top;\n",
       "    }\n",
       "\n",
       "    .dataframe thead th {\n",
       "        text-align: right;\n",
       "    }\n",
       "</style>\n",
       "<table border=\"1\" class=\"dataframe\">\n",
       "  <thead>\n",
       "    <tr style=\"text-align: right;\">\n",
       "      <th></th>\n",
       "      <th>content</th>\n",
       "      <th>collaborative</th>\n",
       "      <th>hybrid</th>\n",
       "    </tr>\n",
       "  </thead>\n",
       "  <tbody>\n",
       "    <tr>\n",
       "      <th>Net, The (1995)</th>\n",
       "      <td>0.553104</td>\n",
       "      <td>0.293574</td>\n",
       "      <td>0.423339</td>\n",
       "    </tr>\n",
       "    <tr>\n",
       "      <th>Two Weeks Notice (2002)</th>\n",
       "      <td>0.588856</td>\n",
       "      <td>0.214021</td>\n",
       "      <td>0.401438</td>\n",
       "    </tr>\n",
       "    <tr>\n",
       "      <th>Under Siege 2: Dark Territory (1995)</th>\n",
       "      <td>0.488645</td>\n",
       "      <td>0.299337</td>\n",
       "      <td>0.393991</td>\n",
       "    </tr>\n",
       "    <tr>\n",
       "      <th>Speed 2: Cruise Control (1997)</th>\n",
       "      <td>0.399344</td>\n",
       "      <td>0.375341</td>\n",
       "      <td>0.387342</td>\n",
       "    </tr>\n",
       "    <tr>\n",
       "      <th>Miss Congeniality (2000)</th>\n",
       "      <td>0.540195</td>\n",
       "      <td>0.207138</td>\n",
       "      <td>0.373667</td>\n",
       "    </tr>\n",
       "    <tr>\n",
       "      <th>Chain Reaction (1996)</th>\n",
       "      <td>0.412952</td>\n",
       "      <td>0.327942</td>\n",
       "      <td>0.370447</td>\n",
       "    </tr>\n",
       "    <tr>\n",
       "      <th>Miss Congeniality 2: Armed and Fabulous (2005)</th>\n",
       "      <td>0.523011</td>\n",
       "      <td>0.174874</td>\n",
       "      <td>0.348943</td>\n",
       "    </tr>\n",
       "    <tr>\n",
       "      <th>While You Were Sleeping (1995)</th>\n",
       "      <td>0.452413</td>\n",
       "      <td>0.235461</td>\n",
       "      <td>0.343937</td>\n",
       "    </tr>\n",
       "    <tr>\n",
       "      <th>28 Days (2000)</th>\n",
       "      <td>0.422455</td>\n",
       "      <td>0.261068</td>\n",
       "      <td>0.341762</td>\n",
       "    </tr>\n",
       "    <tr>\n",
       "      <th>Drop Zone (1994)</th>\n",
       "      <td>0.355138</td>\n",
       "      <td>0.307414</td>\n",
       "      <td>0.331276</td>\n",
       "    </tr>\n",
       "  </tbody>\n",
       "</table>\n",
       "</div>"
      ],
      "text/plain": [
       "                                                 content  collaborative  \\\n",
       "Net, The (1995)                                 0.553104       0.293574   \n",
       "Two Weeks Notice (2002)                         0.588856       0.214021   \n",
       "Under Siege 2: Dark Territory (1995)            0.488645       0.299337   \n",
       "Speed 2: Cruise Control (1997)                  0.399344       0.375341   \n",
       "Miss Congeniality (2000)                        0.540195       0.207138   \n",
       "Chain Reaction (1996)                           0.412952       0.327942   \n",
       "Miss Congeniality 2: Armed and Fabulous (2005)  0.523011       0.174874   \n",
       "While You Were Sleeping (1995)                  0.452413       0.235461   \n",
       "28 Days (2000)                                  0.422455       0.261068   \n",
       "Drop Zone (1994)                                0.355138       0.307414   \n",
       "\n",
       "                                                  hybrid  \n",
       "Net, The (1995)                                 0.423339  \n",
       "Two Weeks Notice (2002)                         0.401438  \n",
       "Under Siege 2: Dark Territory (1995)            0.393991  \n",
       "Speed 2: Cruise Control (1997)                  0.387342  \n",
       "Miss Congeniality (2000)                        0.373667  \n",
       "Chain Reaction (1996)                           0.370447  \n",
       "Miss Congeniality 2: Armed and Fabulous (2005)  0.348943  \n",
       "While You Were Sleeping (1995)                  0.343937  \n",
       "28 Days (2000)                                  0.341762  \n",
       "Drop Zone (1994)                                0.331276  "
      ]
     },
     "execution_count": 361,
     "metadata": {},
     "output_type": "execute_result"
    }
   ],
   "source": [
    "# sort based on sort_params\n",
    "\n",
    "sort_params = \"hybrid\"\n",
    "sim_size = 10\n",
    "\n",
    "similar_movies.sort_values(sort_params, ascending=False, inplace=True)\n",
    "top_sim = similar_movies[1:].head(sim_size)\n",
    "top_sim"
   ]
  },
  {
   "cell_type": "code",
   "execution_count": null,
   "metadata": {},
   "outputs": [],
   "source": [
    "# def get_memory_recommendation(movie_info):\n",
    "#     n_movies_to_reccomend = 10\n",
    "#     if type(movie_info) == str:\n",
    "#         movie_list = movies[movies['title'].str.contains(movie_name)] \n",
    "    \n",
    "#     if len(movie_list):        \n",
    "#         movie_idx= movie_list.iloc[0]['movieId']\n",
    "#         movie_idx = final_dataset[final_dataset['movieId'] == movie_idx].index[0]\n",
    "#         distances , indices = knn.kneighbors(csr_data[movie_idx],n_neighbors=n_movies_to_reccomend+1)    \n",
    "#         rec_movie_indices = sorted(list(zip(indices.squeeze().tolist(),distances.squeeze().tolist())),key=lambda x: x[1])[:0:-1]\n",
    "#         recommend_frame = []\n",
    "#         for val in rec_movie_indices:\n",
    "#             movie_idx = final_dataset.iloc[val[0]]['movieId']\n",
    "#             idx = movies[movies['movieId'] == movie_idx].index\n",
    "#             recommend_frame.append({'Title':movies.iloc[idx]['title'].values[0],'Distance':val[1]})\n",
    "#         df = pd.DataFrame(recommend_frame,index=range(1,n_movies_to_reccomend+1))\n",
    "#         return df\n",
    "#     else:\n",
    "#         return \"No movies found. Please check your input\""
   ]
  },
  {
   "cell_type": "code",
   "execution_count": 393,
   "metadata": {},
   "outputs": [
    {
     "data": {
      "text/plain": [
       "str"
      ]
     },
     "execution_count": 393,
     "metadata": {},
     "output_type": "execute_result"
    }
   ],
   "source": [
    "hhh = \"hhh\"\n",
    "type(hhh)"
   ]
  },
  {
   "cell_type": "code",
   "execution_count": 362,
   "metadata": {},
   "outputs": [
    {
     "data": {
      "text/plain": [
       "[185, 204, 227, 339, 836, 1556, 3534, 4025, 5957, 32296]"
      ]
     },
     "execution_count": 362,
     "metadata": {},
     "output_type": "execute_result"
    }
   ],
   "source": [
    "recommendations = [key for key, value in mapping_movie.items() if value in top_sim.index]\n",
    "recommendations"
   ]
  },
  {
   "cell_type": "code",
   "execution_count": 358,
   "metadata": {},
   "outputs": [
    {
     "data": {
      "text/plain": [
       "[]"
      ]
     },
     "execution_count": 358,
     "metadata": {},
     "output_type": "execute_result"
    }
   ],
   "source": [
    "ratings_history = list(train.rating.loc[(train.userId==semple_user) & (train.movieId.isin(recommendations))])\n",
    "ratings_history"
   ]
  },
  {
   "cell_type": "code",
   "execution_count": 363,
   "metadata": {},
   "outputs": [
    {
     "data": {
      "text/plain": [
       "0.37161425794300873"
      ]
     },
     "execution_count": 363,
     "metadata": {},
     "output_type": "execute_result"
    }
   ],
   "source": [
    "if ratings_history != []:\n",
    "    predicted_rating = np.mean(ratings_history)\n",
    "else:\n",
    "    predicted_rating = np.mean(top_sim.hybrid)\n",
    "\n",
    "predicted_rating"
   ]
  },
  {
   "cell_type": "code",
   "execution_count": null,
   "metadata": {},
   "outputs": [],
   "source": []
  },
  {
   "cell_type": "markdown",
   "metadata": {},
   "source": [
    "### Model type recommendation"
   ]
  },
  {
   "cell_type": "code",
   "execution_count": 397,
   "metadata": {},
   "outputs": [],
   "source": [
    "ratings_csr = csr_matrix(ratings2.values)"
   ]
  },
  {
   "cell_type": "code",
   "execution_count": 400,
   "metadata": {},
   "outputs": [
    {
     "data": {
      "text/plain": [
       "(62423, 25657)"
      ]
     },
     "execution_count": 400,
     "metadata": {},
     "output_type": "execute_result"
    }
   ],
   "source": [
    "ratings_csr.shape"
   ]
  },
  {
   "cell_type": "code",
   "execution_count": 401,
   "metadata": {},
   "outputs": [
    {
     "data": {
      "text/plain": [
       "NearestNeighbors(algorithm='brute', metric='cosine', n_jobs=-1, n_neighbors=20)"
      ]
     },
     "execution_count": 401,
     "metadata": {},
     "output_type": "execute_result"
    }
   ],
   "source": [
    "knn = NearestNeighbors(metric='cosine', algorithm='brute', n_neighbors=20, n_jobs=-1)\n",
    "knn.fit(ratings_csr)"
   ]
  },
  {
   "cell_type": "code",
   "execution_count": 402,
   "metadata": {},
   "outputs": [],
   "source": [
    "def get_model_recommendation(movie_info):\n",
    "    n_movies_to_reccomend = 10\n",
    "    \n",
    "    if type(movie_info) == str:\n",
    "        movie_list = movies[movies.title.str.contains(movie_info)]\n",
    "    else:\n",
    "        get_title = mapping_movie[movie_info]\n",
    "        movie_list = movies[movies.title.str.contains(get_title)]\n",
    "\n",
    "    if len(movie_list):\n",
    "        movie_idx= movie_list.iloc[0]['movieId']\n",
    "        movie_idx = ratings2[ratings2['movieId'] == movie_idx].index[0]\n",
    "        distances , indices = knn.kneighbors(csr_data[movie_idx],n_neighbors=n_movies_to_reccomend+1)    \n",
    "        rec_movie_indices = sorted(list(zip(indices.squeeze().tolist(),distances.squeeze().tolist())),key=lambda x: x[1])[:0:-1]\n",
    "        recommend_frame = []\n",
    "        for val in rec_movie_indices:\n",
    "            movie_idx = ratings2.iloc[val[0]]['movieId']\n",
    "            idx = movies[movies['movieId'] == movie_idx].index\n",
    "            recommend_frame.append({'Title':movies.iloc[idx]['title'].values[0],'Distance':val[1]})\n",
    "        df = pd.DataFrame(recommend_frame,index=range(1,n_movies_to_reccomend+1))\n",
    "        return df\n",
    "    else:\n",
    "        return \"No movies found. Please check your input\""
   ]
  },
  {
   "cell_type": "code",
   "execution_count": 484,
   "metadata": {},
   "outputs": [
    {
     "name": "stdout",
     "output_type": "stream",
     "text": [
      "                                                               Title  Distance\n",
      "1                                           Demon Witch Child (1975)  0.289331\n",
      "2                                  Invasion of the Saucer-Men (1957)  0.289331\n",
      "3                                             The Disembodied (1957)  0.289331\n",
      "4                                         Dracula in Pakistan (1967)  0.289331\n",
      "5                                     The Falcon in Hollywood (1944)  0.289331\n",
      "6   Fiend with the Electronic Brain (Blood of Ghastly Horror) (1972)  0.278250\n",
      "7                                     The Man Who Lived Again (1936)  0.256478\n",
      "8                              Mother Riley Meets the Vampire (1952)  0.251004\n",
      "9                                        Daughter of Darkness (1948)  0.246692\n",
      "10           Astounding She-Monster, The (Naked Invader, The) (1957)  0.244352\n"
     ]
    }
   ],
   "source": [
    "n_movies_to_reccomend = 10\n",
    "\n",
    "movie_info = \"iron man\"\n",
    "    \n",
    "if hhh.isalpha():\n",
    "    movie_list = movies[movies.title.str.contains(movie_info, case=False)]\n",
    "elif hhh.isdigit():\n",
    "    get_title = mapping_movie[int(movie_info)]\n",
    "    movie_list = movies[movies.title==get_title]\n",
    "\n",
    "if len(movie_list):\n",
    "    movie_idx = movie_list.iloc[0]['movieId']\n",
    "    distances , indices = knn.kneighbors(ratings_csr[movie_idx],n_neighbors=n_movies_to_reccomend+1)    \n",
    "    rec_movie_indices = sorted(list(zip(indices.squeeze().tolist(),distances.squeeze().tolist())),key=lambda x: x[1])[:0:-1]\n",
    "    recommend_frame = []\n",
    "    for val in rec_movie_indices:\n",
    "        movie_idx = movies.iloc[val[0]]['movieId']\n",
    "        idx = movies[movies['movieId'] == movie_idx].index\n",
    "        recommend_frame.append({'Title':movies.iloc[idx]['title'].values[0],'Distance':val[1]})\n",
    "    df = pd.DataFrame(recommend_frame,index=range(1,n_movies_to_reccomend+1))\n",
    "    print(df)\n",
    "# else:\n",
    "#     return \"No movies found. Please check your input\""
   ]
  },
  {
   "cell_type": "code",
   "execution_count": 476,
   "metadata": {},
   "outputs": [
    {
     "data": {
      "text/html": [
       "<div>\n",
       "<style scoped>\n",
       "    .dataframe tbody tr th:only-of-type {\n",
       "        vertical-align: middle;\n",
       "    }\n",
       "\n",
       "    .dataframe tbody tr th {\n",
       "        vertical-align: top;\n",
       "    }\n",
       "\n",
       "    .dataframe thead th {\n",
       "        text-align: right;\n",
       "    }\n",
       "</style>\n",
       "<table border=\"1\" class=\"dataframe\">\n",
       "  <thead>\n",
       "    <tr style=\"text-align: right;\">\n",
       "      <th></th>\n",
       "      <th>movieId</th>\n",
       "      <th>title</th>\n",
       "      <th>genres</th>\n",
       "    </tr>\n",
       "  </thead>\n",
       "  <tbody>\n",
       "    <tr>\n",
       "      <th>12324</th>\n",
       "      <td>59315</td>\n",
       "      <td>Iron Man (2008)</td>\n",
       "      <td>Action Adventure Sci-Fi</td>\n",
       "    </tr>\n",
       "    <tr>\n",
       "      <th>14628</th>\n",
       "      <td>77561</td>\n",
       "      <td>Iron Man 2 (2010)</td>\n",
       "      <td>Action Adventure Sci-Fi Thriller IMAX</td>\n",
       "    </tr>\n",
       "    <tr>\n",
       "      <th>19678</th>\n",
       "      <td>102125</td>\n",
       "      <td>Iron Man 3 (2013)</td>\n",
       "      <td>Action Sci-Fi Thriller IMAX</td>\n",
       "    </tr>\n",
       "    <tr>\n",
       "      <th>30509</th>\n",
       "      <td>136455</td>\n",
       "      <td>Iron Man &amp; Captain America: Heroes United (2014)</td>\n",
       "      <td>Action Adventure Animation</td>\n",
       "    </tr>\n",
       "    <tr>\n",
       "      <th>32940</th>\n",
       "      <td>142056</td>\n",
       "      <td>Iron Man &amp; Hulk: Heroes United (2013)</td>\n",
       "      <td>Action Adventure Animation</td>\n",
       "    </tr>\n",
       "    <tr>\n",
       "      <th>35143</th>\n",
       "      <td>147070</td>\n",
       "      <td>Iron Man (1951)</td>\n",
       "      <td>Drama</td>\n",
       "    </tr>\n",
       "    <tr>\n",
       "      <th>44001</th>\n",
       "      <td>167296</td>\n",
       "      <td>Iron Man (1931)</td>\n",
       "      <td>Drama</td>\n",
       "    </tr>\n",
       "    <tr>\n",
       "      <th>56471</th>\n",
       "      <td>194228</td>\n",
       "      <td>The Iron Man (1974)</td>\n",
       "      <td>Action Comedy Fantasy</td>\n",
       "    </tr>\n",
       "  </tbody>\n",
       "</table>\n",
       "</div>"
      ],
      "text/plain": [
       "       movieId                                             title  \\\n",
       "12324    59315                                   Iron Man (2008)   \n",
       "14628    77561                                 Iron Man 2 (2010)   \n",
       "19678   102125                                 Iron Man 3 (2013)   \n",
       "30509   136455  Iron Man & Captain America: Heroes United (2014)   \n",
       "32940   142056             Iron Man & Hulk: Heroes United (2013)   \n",
       "35143   147070                                   Iron Man (1951)   \n",
       "44001   167296                                   Iron Man (1931)   \n",
       "56471   194228                               The Iron Man (1974)   \n",
       "\n",
       "                                      genres  \n",
       "12324                Action Adventure Sci-Fi  \n",
       "14628  Action Adventure Sci-Fi Thriller IMAX  \n",
       "19678            Action Sci-Fi Thriller IMAX  \n",
       "30509             Action Adventure Animation  \n",
       "32940             Action Adventure Animation  \n",
       "35143                                  Drama  \n",
       "44001                                  Drama  \n",
       "56471                  Action Comedy Fantasy  "
      ]
     },
     "execution_count": 476,
     "metadata": {},
     "output_type": "execute_result"
    }
   ],
   "source": [
    "movie_info = \"iron man\"\n",
    "# get_title = mapping_movie[movie_info]\n",
    "movie_list = movies[movies.title.str.contains(movie_info, case=False)]\n",
    "movie_list"
   ]
  },
  {
   "cell_type": "code",
   "execution_count": 480,
   "metadata": {},
   "outputs": [
    {
     "data": {
      "text/html": [
       "<div>\n",
       "<style scoped>\n",
       "    .dataframe tbody tr th:only-of-type {\n",
       "        vertical-align: middle;\n",
       "    }\n",
       "\n",
       "    .dataframe tbody tr th {\n",
       "        vertical-align: top;\n",
       "    }\n",
       "\n",
       "    .dataframe thead th {\n",
       "        text-align: right;\n",
       "    }\n",
       "</style>\n",
       "<table border=\"1\" class=\"dataframe\">\n",
       "  <thead>\n",
       "    <tr style=\"text-align: right;\">\n",
       "      <th>userId</th>\n",
       "      <th>0.0</th>\n",
       "      <th>3.0</th>\n",
       "      <th>12.0</th>\n",
       "      <th>13.0</th>\n",
       "      <th>19.0</th>\n",
       "      <th>23.0</th>\n",
       "      <th>31.0</th>\n",
       "      <th>43.0</th>\n",
       "      <th>57.0</th>\n",
       "      <th>59.0</th>\n",
       "      <th>...</th>\n",
       "      <th>162495.0</th>\n",
       "      <th>162498.0</th>\n",
       "      <th>162508.0</th>\n",
       "      <th>162512.0</th>\n",
       "      <th>162516.0</th>\n",
       "      <th>162519.0</th>\n",
       "      <th>162521.0</th>\n",
       "      <th>162529.0</th>\n",
       "      <th>162533.0</th>\n",
       "      <th>162534.0</th>\n",
       "    </tr>\n",
       "    <tr>\n",
       "      <th>movieId</th>\n",
       "      <th></th>\n",
       "      <th></th>\n",
       "      <th></th>\n",
       "      <th></th>\n",
       "      <th></th>\n",
       "      <th></th>\n",
       "      <th></th>\n",
       "      <th></th>\n",
       "      <th></th>\n",
       "      <th></th>\n",
       "      <th></th>\n",
       "      <th></th>\n",
       "      <th></th>\n",
       "      <th></th>\n",
       "      <th></th>\n",
       "      <th></th>\n",
       "      <th></th>\n",
       "      <th></th>\n",
       "      <th></th>\n",
       "      <th></th>\n",
       "      <th></th>\n",
       "    </tr>\n",
       "  </thead>\n",
       "  <tbody>\n",
       "    <tr>\n",
       "      <th>1</th>\n",
       "      <td>0.0</td>\n",
       "      <td>0.0</td>\n",
       "      <td>0.0</td>\n",
       "      <td>4.0</td>\n",
       "      <td>0.0</td>\n",
       "      <td>0.0</td>\n",
       "      <td>0.0</td>\n",
       "      <td>4.0</td>\n",
       "      <td>0.0</td>\n",
       "      <td>0.0</td>\n",
       "      <td>...</td>\n",
       "      <td>3.0</td>\n",
       "      <td>3.5</td>\n",
       "      <td>4.5</td>\n",
       "      <td>4.0</td>\n",
       "      <td>0.0</td>\n",
       "      <td>0.0</td>\n",
       "      <td>0.0</td>\n",
       "      <td>0.0</td>\n",
       "      <td>0.0</td>\n",
       "      <td>0.0</td>\n",
       "    </tr>\n",
       "    <tr>\n",
       "      <th>2</th>\n",
       "      <td>0.0</td>\n",
       "      <td>0.0</td>\n",
       "      <td>0.0</td>\n",
       "      <td>0.0</td>\n",
       "      <td>3.5</td>\n",
       "      <td>0.0</td>\n",
       "      <td>0.0</td>\n",
       "      <td>3.5</td>\n",
       "      <td>0.0</td>\n",
       "      <td>0.0</td>\n",
       "      <td>...</td>\n",
       "      <td>3.0</td>\n",
       "      <td>0.0</td>\n",
       "      <td>0.0</td>\n",
       "      <td>3.5</td>\n",
       "      <td>2.5</td>\n",
       "      <td>2.0</td>\n",
       "      <td>0.0</td>\n",
       "      <td>4.0</td>\n",
       "      <td>0.0</td>\n",
       "      <td>0.0</td>\n",
       "    </tr>\n",
       "    <tr>\n",
       "      <th>3</th>\n",
       "      <td>0.0</td>\n",
       "      <td>0.0</td>\n",
       "      <td>0.0</td>\n",
       "      <td>0.0</td>\n",
       "      <td>0.0</td>\n",
       "      <td>0.0</td>\n",
       "      <td>0.0</td>\n",
       "      <td>0.0</td>\n",
       "      <td>0.0</td>\n",
       "      <td>0.0</td>\n",
       "      <td>...</td>\n",
       "      <td>0.0</td>\n",
       "      <td>0.0</td>\n",
       "      <td>0.0</td>\n",
       "      <td>0.0</td>\n",
       "      <td>0.0</td>\n",
       "      <td>0.0</td>\n",
       "      <td>0.0</td>\n",
       "      <td>0.0</td>\n",
       "      <td>0.0</td>\n",
       "      <td>0.0</td>\n",
       "    </tr>\n",
       "    <tr>\n",
       "      <th>4</th>\n",
       "      <td>0.0</td>\n",
       "      <td>0.0</td>\n",
       "      <td>0.0</td>\n",
       "      <td>0.0</td>\n",
       "      <td>0.0</td>\n",
       "      <td>0.0</td>\n",
       "      <td>0.0</td>\n",
       "      <td>0.0</td>\n",
       "      <td>0.0</td>\n",
       "      <td>0.0</td>\n",
       "      <td>...</td>\n",
       "      <td>0.0</td>\n",
       "      <td>0.0</td>\n",
       "      <td>0.0</td>\n",
       "      <td>0.0</td>\n",
       "      <td>0.0</td>\n",
       "      <td>0.0</td>\n",
       "      <td>0.0</td>\n",
       "      <td>0.0</td>\n",
       "      <td>0.0</td>\n",
       "      <td>0.0</td>\n",
       "    </tr>\n",
       "    <tr>\n",
       "      <th>5</th>\n",
       "      <td>0.0</td>\n",
       "      <td>0.0</td>\n",
       "      <td>0.0</td>\n",
       "      <td>0.0</td>\n",
       "      <td>0.0</td>\n",
       "      <td>0.0</td>\n",
       "      <td>0.0</td>\n",
       "      <td>0.0</td>\n",
       "      <td>0.0</td>\n",
       "      <td>0.0</td>\n",
       "      <td>...</td>\n",
       "      <td>0.0</td>\n",
       "      <td>0.0</td>\n",
       "      <td>0.0</td>\n",
       "      <td>3.5</td>\n",
       "      <td>0.0</td>\n",
       "      <td>0.0</td>\n",
       "      <td>0.0</td>\n",
       "      <td>0.0</td>\n",
       "      <td>0.0</td>\n",
       "      <td>0.0</td>\n",
       "    </tr>\n",
       "    <tr>\n",
       "      <th>...</th>\n",
       "      <td>...</td>\n",
       "      <td>...</td>\n",
       "      <td>...</td>\n",
       "      <td>...</td>\n",
       "      <td>...</td>\n",
       "      <td>...</td>\n",
       "      <td>...</td>\n",
       "      <td>...</td>\n",
       "      <td>...</td>\n",
       "      <td>...</td>\n",
       "      <td>...</td>\n",
       "      <td>...</td>\n",
       "      <td>...</td>\n",
       "      <td>...</td>\n",
       "      <td>...</td>\n",
       "      <td>...</td>\n",
       "      <td>...</td>\n",
       "      <td>...</td>\n",
       "      <td>...</td>\n",
       "      <td>...</td>\n",
       "      <td>...</td>\n",
       "    </tr>\n",
       "    <tr>\n",
       "      <th>209157</th>\n",
       "      <td>0.0</td>\n",
       "      <td>0.0</td>\n",
       "      <td>0.0</td>\n",
       "      <td>0.0</td>\n",
       "      <td>0.0</td>\n",
       "      <td>0.0</td>\n",
       "      <td>0.0</td>\n",
       "      <td>0.0</td>\n",
       "      <td>0.0</td>\n",
       "      <td>0.0</td>\n",
       "      <td>...</td>\n",
       "      <td>0.0</td>\n",
       "      <td>0.0</td>\n",
       "      <td>0.0</td>\n",
       "      <td>0.0</td>\n",
       "      <td>0.0</td>\n",
       "      <td>0.0</td>\n",
       "      <td>0.0</td>\n",
       "      <td>0.0</td>\n",
       "      <td>0.0</td>\n",
       "      <td>0.0</td>\n",
       "    </tr>\n",
       "    <tr>\n",
       "      <th>209159</th>\n",
       "      <td>0.0</td>\n",
       "      <td>0.0</td>\n",
       "      <td>0.0</td>\n",
       "      <td>0.0</td>\n",
       "      <td>0.0</td>\n",
       "      <td>0.0</td>\n",
       "      <td>0.0</td>\n",
       "      <td>0.0</td>\n",
       "      <td>0.0</td>\n",
       "      <td>0.0</td>\n",
       "      <td>...</td>\n",
       "      <td>0.0</td>\n",
       "      <td>0.0</td>\n",
       "      <td>0.0</td>\n",
       "      <td>0.0</td>\n",
       "      <td>0.0</td>\n",
       "      <td>0.0</td>\n",
       "      <td>0.0</td>\n",
       "      <td>0.0</td>\n",
       "      <td>0.0</td>\n",
       "      <td>0.0</td>\n",
       "    </tr>\n",
       "    <tr>\n",
       "      <th>209163</th>\n",
       "      <td>0.0</td>\n",
       "      <td>0.0</td>\n",
       "      <td>0.0</td>\n",
       "      <td>0.0</td>\n",
       "      <td>0.0</td>\n",
       "      <td>0.0</td>\n",
       "      <td>0.0</td>\n",
       "      <td>0.0</td>\n",
       "      <td>0.0</td>\n",
       "      <td>0.0</td>\n",
       "      <td>...</td>\n",
       "      <td>0.0</td>\n",
       "      <td>0.0</td>\n",
       "      <td>0.0</td>\n",
       "      <td>0.0</td>\n",
       "      <td>0.0</td>\n",
       "      <td>0.0</td>\n",
       "      <td>0.0</td>\n",
       "      <td>0.0</td>\n",
       "      <td>0.0</td>\n",
       "      <td>0.0</td>\n",
       "    </tr>\n",
       "    <tr>\n",
       "      <th>209169</th>\n",
       "      <td>0.0</td>\n",
       "      <td>0.0</td>\n",
       "      <td>0.0</td>\n",
       "      <td>0.0</td>\n",
       "      <td>0.0</td>\n",
       "      <td>0.0</td>\n",
       "      <td>0.0</td>\n",
       "      <td>0.0</td>\n",
       "      <td>0.0</td>\n",
       "      <td>0.0</td>\n",
       "      <td>...</td>\n",
       "      <td>0.0</td>\n",
       "      <td>0.0</td>\n",
       "      <td>0.0</td>\n",
       "      <td>0.0</td>\n",
       "      <td>0.0</td>\n",
       "      <td>0.0</td>\n",
       "      <td>0.0</td>\n",
       "      <td>0.0</td>\n",
       "      <td>0.0</td>\n",
       "      <td>0.0</td>\n",
       "    </tr>\n",
       "    <tr>\n",
       "      <th>209171</th>\n",
       "      <td>0.0</td>\n",
       "      <td>0.0</td>\n",
       "      <td>0.0</td>\n",
       "      <td>0.0</td>\n",
       "      <td>0.0</td>\n",
       "      <td>0.0</td>\n",
       "      <td>0.0</td>\n",
       "      <td>0.0</td>\n",
       "      <td>0.0</td>\n",
       "      <td>0.0</td>\n",
       "      <td>...</td>\n",
       "      <td>0.0</td>\n",
       "      <td>0.0</td>\n",
       "      <td>0.0</td>\n",
       "      <td>0.0</td>\n",
       "      <td>0.0</td>\n",
       "      <td>0.0</td>\n",
       "      <td>0.0</td>\n",
       "      <td>0.0</td>\n",
       "      <td>0.0</td>\n",
       "      <td>0.0</td>\n",
       "    </tr>\n",
       "  </tbody>\n",
       "</table>\n",
       "<p>62423 rows × 25657 columns</p>\n",
       "</div>"
      ],
      "text/plain": [
       "userId   0.0       3.0       12.0      13.0      19.0      23.0      31.0      \\\n",
       "movieId                                                                         \n",
       "1             0.0       0.0       0.0       4.0       0.0       0.0       0.0   \n",
       "2             0.0       0.0       0.0       0.0       3.5       0.0       0.0   \n",
       "3             0.0       0.0       0.0       0.0       0.0       0.0       0.0   \n",
       "4             0.0       0.0       0.0       0.0       0.0       0.0       0.0   \n",
       "5             0.0       0.0       0.0       0.0       0.0       0.0       0.0   \n",
       "...           ...       ...       ...       ...       ...       ...       ...   \n",
       "209157        0.0       0.0       0.0       0.0       0.0       0.0       0.0   \n",
       "209159        0.0       0.0       0.0       0.0       0.0       0.0       0.0   \n",
       "209163        0.0       0.0       0.0       0.0       0.0       0.0       0.0   \n",
       "209169        0.0       0.0       0.0       0.0       0.0       0.0       0.0   \n",
       "209171        0.0       0.0       0.0       0.0       0.0       0.0       0.0   \n",
       "\n",
       "userId   43.0      57.0      59.0      ...  162495.0  162498.0  162508.0  \\\n",
       "movieId                                ...                                 \n",
       "1             4.0       0.0       0.0  ...       3.0       3.5       4.5   \n",
       "2             3.5       0.0       0.0  ...       3.0       0.0       0.0   \n",
       "3             0.0       0.0       0.0  ...       0.0       0.0       0.0   \n",
       "4             0.0       0.0       0.0  ...       0.0       0.0       0.0   \n",
       "5             0.0       0.0       0.0  ...       0.0       0.0       0.0   \n",
       "...           ...       ...       ...  ...       ...       ...       ...   \n",
       "209157        0.0       0.0       0.0  ...       0.0       0.0       0.0   \n",
       "209159        0.0       0.0       0.0  ...       0.0       0.0       0.0   \n",
       "209163        0.0       0.0       0.0  ...       0.0       0.0       0.0   \n",
       "209169        0.0       0.0       0.0  ...       0.0       0.0       0.0   \n",
       "209171        0.0       0.0       0.0  ...       0.0       0.0       0.0   \n",
       "\n",
       "userId   162512.0  162516.0  162519.0  162521.0  162529.0  162533.0  162534.0  \n",
       "movieId                                                                        \n",
       "1             4.0       0.0       0.0       0.0       0.0       0.0       0.0  \n",
       "2             3.5       2.5       2.0       0.0       4.0       0.0       0.0  \n",
       "3             0.0       0.0       0.0       0.0       0.0       0.0       0.0  \n",
       "4             0.0       0.0       0.0       0.0       0.0       0.0       0.0  \n",
       "5             3.5       0.0       0.0       0.0       0.0       0.0       0.0  \n",
       "...           ...       ...       ...       ...       ...       ...       ...  \n",
       "209157        0.0       0.0       0.0       0.0       0.0       0.0       0.0  \n",
       "209159        0.0       0.0       0.0       0.0       0.0       0.0       0.0  \n",
       "209163        0.0       0.0       0.0       0.0       0.0       0.0       0.0  \n",
       "209169        0.0       0.0       0.0       0.0       0.0       0.0       0.0  \n",
       "209171        0.0       0.0       0.0       0.0       0.0       0.0       0.0  \n",
       "\n",
       "[62423 rows x 25657 columns]"
      ]
     },
     "execution_count": 480,
     "metadata": {},
     "output_type": "execute_result"
    }
   ],
   "source": [
    "ratings2"
   ]
  },
  {
   "cell_type": "markdown",
   "metadata": {},
   "source": [
    "### Keep"
   ]
  },
  {
   "cell_type": "code",
   "execution_count": null,
   "metadata": {},
   "outputs": [],
   "source": []
  },
  {
   "cell_type": "code",
   "execution_count": null,
   "metadata": {},
   "outputs": [],
   "source": []
  },
  {
   "cell_type": "code",
   "execution_count": null,
   "metadata": {},
   "outputs": [],
   "source": []
  },
  {
   "cell_type": "code",
   "execution_count": null,
   "metadata": {},
   "outputs": [],
   "source": []
  },
  {
   "cell_type": "markdown",
   "metadata": {},
   "source": [
    " <a id=\"five\"></a>\n",
    "## 5. EXPLORATORY DATA ANALYSIS (EDA)\n",
    "<a href=#cont>Back to Table of Contents</a>\n",
    "\n",
    "---\n",
    "    \n",
    "| ⚡ Description: Explore data ⚡ |\n",
    "| :--------------------------- |"
   ]
  },
  {
   "cell_type": "markdown",
   "metadata": {},
   "source": [
    " <a id=\"six\"></a>\n",
    "## 6. EXTRA\n",
    "<a href=#cont>Back to Table of Contents</a>\n",
    "\n",
    "---\n",
    "    \n",
    "| ⚡ Description: Additional content ⚡ |\n",
    "| :--------------------------- |"
   ]
  }
 ],
 "metadata": {
  "kernelspec": {
   "display_name": "Python 3.7.0 64-bit",
   "language": "python",
   "name": "python3"
  },
  "language_info": {
   "codemirror_mode": {
    "name": "ipython",
    "version": 3
   },
   "file_extension": ".py",
   "mimetype": "text/x-python",
   "name": "python",
   "nbconvert_exporter": "python",
   "pygments_lexer": "ipython3",
   "version": "3.7.0"
  },
  "orig_nbformat": 2,
  "vscode": {
   "interpreter": {
    "hash": "ca5a60060b31aad015acf28d0b53b670aa812f0374a1316e0ab94443d51069ac"
   }
  }
 },
 "nbformat": 4,
 "nbformat_minor": 2
}
