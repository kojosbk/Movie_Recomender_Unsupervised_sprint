{
 "metadata": {
  "language_info": {
   "codemirror_mode": {
    "name": "ipython",
    "version": 3
   },
   "file_extension": ".py",
   "mimetype": "text/x-python",
   "name": "python",
   "nbconvert_exporter": "python",
   "pygments_lexer": "ipython3",
   "version": "3.7.6-final"
  },
  "orig_nbformat": 2,
  "kernelspec": {
   "name": "python3",
   "display_name": "Python 3"
  }
 },
 "nbformat": 4,
 "nbformat_minor": 2,
 "cells": [
  {
   "source": [
    "<a id=\"top\"></a>\n",
    "# Team 3 Unsupervised Predict Notebook\n",
    "### Kaggle Submission: Team_3_July_Phoenix_Code\n",
    "---\n",
    "<img src=\"../notebook/Presentation1.png\" align=\"left\">"
   ],
   "cell_type": "markdown",
   "metadata": {}
  },
  {
   "cell_type": "code",
   "execution_count": null,
   "metadata": {},
   "outputs": [],
   "source": []
  },
  {
   "source": [
    "# Outline\n",
    "\n",
    "- Importing Commet \n",
    "- Project Overview\n",
    "    - Introduction\n",
    "    - Problem Statement\n",
    "- Loading Required Libraries\n",
    "- Data \n",
    "    - Data Description\n",
    "    - Loading the datasets\n",
    "- Explanatory Data Analysis\n",
    "    - Data Preprocessing\n",
    "        - Multidimensional Scaling\n",
    "        - Principle Component Analysis\n",
    "        - Cluster Analysis\n",
    "    - Data Analysis\n",
    "- Selecting Base Model\n",
    "    - collaborative Filtering\n",
    "    - Content-based Filtering\n",
    "- Performance Evaluation\n",
    "    - Root Mean Squared Error \n",
    "    - Cross Validation\n",
    "- Modeling Analysis\n",
    "    - Hyperparameter Tuning\n",
    "    - Results\n",
    "- Best Performing Model\n",
    "- Summary\n",
    "- Appendix"
   ],
   "cell_type": "markdown",
   "metadata": {}
  },
  {
   "source": [
    "\n"
   ],
   "cell_type": "markdown",
   "metadata": {}
  },
  {
   "source": [
    "<a id=\"top\"></a>\n",
    "# Connecting to Commet\n",
    "- Comet provides a self-hosted and cloud-based meta machine learning platform allowing data scientists and teams to track, compare, explain and optimize experiments and models.\n",
    "\n",
    "- Backed by thousands of users and multiple Fortune 100 companies, Comet provides insights and data to build better, more accurate AI models while improving productivity, collaboration and visibility across teams.\n",
    "- We will be using Comet to version control our experiments\n",
    "\n",
    "---\n",
    "<img src=\"../notebook/Comet1.png\" align=\"left\">"
   ],
   "cell_type": "markdown",
   "metadata": {}
  },
  {
   "cell_type": "code",
   "execution_count": null,
   "metadata": {},
   "outputs": [],
   "source": [
    "# Link workspace to Comet experiment\n",
    "# !pip install comet_ml\n",
    "# from comet_ml import Experiment\n",
    "# experiment = Experiment(api_key=\"\", project_name=\"unsupervised-predict\", workspace=\"\")"
   ]
  },
  {
   "source": [
    "# Project Overview"
   ],
   "cell_type": "markdown",
   "metadata": {}
  },
  {
   "source": [
    "<a id=\"top\"></a>\n",
    "## Introduction \n",
    "- In today’s technology driven world, recommender systems are socially and economically critical for ensuring that individuals can make appropriate choices surrounding the content they engage with on a daily basis. One application where this is especially true surrounds movie content recommendations; where intelligent algorithms can help viewers find great titles from tens of thousands of options.\n",
    "\n",
    "- We are going to construct a recommendation algorithm based on content or collaborative filtering, capable of accurately predicting how a user will rate a movie they have not yet viewed based on their historical preferences.\n",
    "\n",
    "- Providing an accurate and robust solution to this challenge has immense economic potential, with users of the system being exposed to content they would like to view or purchase - generating revenue and platform affinity.\n",
    "---\n",
    "<img src=\"../notebook/intro1.png\" align=\"left\">\n"
   ],
   "cell_type": "markdown",
   "metadata": {}
  },
  {
   "source": [
    "## Problem Statement \n",
    "- to construct a recommendation algorithm based on content or collaborative filtering, capable of accurately predicting how a user will rate a movie they have not yet viewed based on their historical preferences"
   ],
   "cell_type": "markdown",
   "metadata": {}
  },
  {
   "source": [
    "# Loading the Libraries"
   ],
   "cell_type": "markdown",
   "metadata": {}
  },
  {
   "cell_type": "code",
   "execution_count": 7,
   "metadata": {},
   "outputs": [
    {
     "output_type": "stream",
     "name": "stdout",
     "text": [
      "Requirement already satisfied: scikit-learn in c:\\users\\presca.mashamaite\\anaconda3\\lib\\site-packages (0.23.2)\n",
      "Requirement already satisfied: scikit-surprise in c:\\users\\presca.mashamaite\\anaconda3\\lib\\site-packages (1.1.1)\n",
      "Requirement already satisfied: scipy>=0.19.1 in c:\\users\\presca.mashamaite\\anaconda3\\lib\\site-packages (from scikit-learn) (1.4.1)\n",
      "Requirement already satisfied: threadpoolctl>=2.0.0 in c:\\users\\presca.mashamaite\\anaconda3\\lib\\site-packages (from scikit-learn) (2.1.0)\n",
      "Requirement already satisfied: joblib>=0.11 in c:\\users\\presca.mashamaite\\anaconda3\\lib\\site-packages (from scikit-learn) (0.14.1)\n",
      "Requirement already satisfied: numpy>=1.13.3 in c:\\users\\presca.mashamaite\\anaconda3\\lib\\site-packages (from scikit-learn) (1.19.2)\n",
      "Requirement already satisfied: six>=1.10.0 in c:\\users\\presca.mashamaite\\anaconda3\\lib\\site-packages (from scikit-surprise) (1.14.0)\n",
      "Collecting git+https://github.com/gbolmier/funk-svd\n",
      "  Cloning https://github.com/gbolmier/funk-svd to c:\\users\\presca~1.mas\\appdata\\local\\temp\\pip-req-build-mqwc7hpy\n",
      "Requirement already satisfied: numba>=0.38.0 in c:\\users\\presca.mashamaite\\anaconda3\\lib\\site-packages (from funk-svd==0.0.1.dev1) (0.48.0)\n",
      "Requirement already satisfied: numpy>=1.14.3 in c:\\users\\presca.mashamaite\\anaconda3\\lib\\site-packages (from funk-svd==0.0.1.dev1) (1.19.2)\n",
      "Requirement already satisfied: pandas>=0.23.0 in c:\\users\\presca.mashamaite\\anaconda3\\lib\\site-packages (from funk-svd==0.0.1.dev1) (1.1.3)\n",
      "Requirement already satisfied: llvmlite<0.32.0,>=0.31.0dev0 in c:\\users\\presca.mashamaite\\anaconda3\\lib\\site-packages (from numba>=0.38.0->funk-svd==0.0.1.dev1) (0.31.0)\n",
      "Requirement already satisfied: setuptools in c:\\users\\presca.mashamaite\\anaconda3\\lib\\site-packages (from numba>=0.38.0->funk-svd==0.0.1.dev1) (45.2.0.post20200210)\n",
      "Requirement already satisfied: python-dateutil>=2.7.3 in c:\\users\\presca.mashamaite\\anaconda3\\lib\\site-packages (from pandas>=0.23.0->funk-svd==0.0.1.dev1) (2.8.1)\n",
      "Requirement already satisfied: pytz>=2017.2 in c:\\users\\presca.mashamaite\\anaconda3\\lib\\site-packages (from pandas>=0.23.0->funk-svd==0.0.1.dev1) (2019.3)\n",
      "Requirement already satisfied: six>=1.5 in c:\\users\\presca.mashamaite\\anaconda3\\lib\\site-packages (from python-dateutil>=2.7.3->pandas>=0.23.0->funk-svd==0.0.1.dev1) (1.14.0)\n",
      "Building wheels for collected packages: funk-svd\n",
      "  Building wheel for funk-svd (setup.py): started\n",
      "  Building wheel for funk-svd (setup.py): finished with status 'done'\n",
      "  Created wheel for funk-svd: filename=funk_svd-0.0.1.dev1-py3-none-any.whl size=8661 sha256=13a7cfa9f6d25f4dd4dd2df8c3d6b0f2541bccc1d74d9737d80f3e0803958505\n",
      "  Stored in directory: C:\\Users\\PRESCA~1.MAS\\AppData\\Local\\Temp\\pip-ephem-wheel-cache-lys6vb83\\wheels\\99\\98\\69\\793c84ef2626b03661e3cddf49d8818cddbb694b0428adaeb4\n",
      "Successfully built funk-svd\n",
      "Installing collected packages: funk-svd\n",
      "Successfully installed funk-svd-0.0.1.dev1\n",
      "  Running command git clone -q https://github.com/gbolmier/funk-svd 'C:\\Users\\PRESCA~1.MAS\\AppData\\Local\\Temp\\pip-req-build-mqwc7hpy'\n"
     ]
    },
    {
     "output_type": "display_data",
     "data": {
      "text/html": "        <script type=\"text/javascript\">\n        window.PlotlyConfig = {MathJaxConfig: 'local'};\n        if (window.MathJax) {MathJax.Hub.Config({SVG: {font: \"STIX-Web\"}});}\n        if (typeof require !== 'undefined') {\n        require.undef(\"plotly\");\n        requirejs.config({\n            paths: {\n                'plotly': ['https://cdn.plot.ly/plotly-latest.min']\n            }\n        });\n        require(['plotly'], function(Plotly) {\n            window._Plotly = Plotly;\n        });\n        }\n        </script>\n        "
     },
     "metadata": {}
    },
    {
     "output_type": "display_data",
     "data": {
      "text/html": "        <script type=\"text/javascript\">\n        window.PlotlyConfig = {MathJaxConfig: 'local'};\n        if (window.MathJax) {MathJax.Hub.Config({SVG: {font: \"STIX-Web\"}});}\n        if (typeof require !== 'undefined') {\n        require.undef(\"plotly\");\n        requirejs.config({\n            paths: {\n                'plotly': ['https://cdn.plot.ly/plotly-latest.min']\n            }\n        });\n        require(['plotly'], function(Plotly) {\n            window._Plotly = Plotly;\n        });\n        }\n        </script>\n        "
     },
     "metadata": {}
    }
   ],
   "source": [
    "# Ignore warnings\n",
    "import warnings\n",
    "warnings.simplefilter(action='ignore')\n",
    "\n",
    "# Install Prerequisites\n",
    "import sys\n",
    "!{sys.executable} -m pip install scikit-learn scikit-surprise\n",
    "!pip install git+https://github.com/gbolmier/funk-svd\n",
    "\n",
    "# Exploratory Data Analysis\n",
    "import pickle\n",
    "import numpy as np\n",
    "import pandas as pd\n",
    "import seaborn as sns\n",
    "import matplotlib.pyplot as plt\n",
    "\n",
    "# Data Preprocessing\n",
    "import random\n",
    "from time import time\n",
    "import cufflinks as cf\n",
    "from sklearn.manifold import TSNE\n",
    "from sklearn.cluster import KMeans\n",
    "from sklearn.decomposition import PCA\n",
    "from mpl_toolkits.mplot3d import Axes3D\n",
    "from matplotlib.ticker import NullFormatter\n",
    "from sklearn.preprocessing import StandardScaler\n",
    "from plotly.offline import download_plotlyjs, init_notebook_mode, plot, iplot\n",
    "init_notebook_mode(connected=True)\n",
    "\n",
    "# Models\n",
    "from surprise import Reader, Dataset\n",
    "from surprise import SVD, NormalPredictor, BaselineOnly, NMF, SlopeOne, CoClustering\n",
    "from sklearn.metrics.pairwise import cosine_similarity\n",
    "from sklearn.feature_extraction.text import CountVectorizer\n",
    "\n",
    "# Performance Evaluation\n",
    "from surprise import accuracy\n",
    "from sklearn.metrics import mean_squared_error\n",
    "from surprise.model_selection import GridSearchCV, cross_validate, train_test_split\n",
    "\n",
    "# Display\n",
    "%matplotlib inline\n",
    "sns.set(font_scale=1)\n",
    "sns.set_style(\"white\")\n",
    "pd.set_option('display.max_columns', 37)"
   ]
  },
  {
   "source": [
    "# Data"
   ],
   "cell_type": "markdown",
   "metadata": {}
  },
  {
   "source": [
    "## Data Description\n",
    "### Data Overview\n",
    "-This dataset consists of several million 5-star ratings obtained from users of the online MovieLens movie recommendation service. The MovieLens dataset has long been used by industry and academic researchers to improve the performance of explicitly-based recommender systems, and now you get to as well!\n",
    "\n",
    "For this Predict, we'll be using a special version of the MovieLens dataset which has enriched with additional data, and resampled for fair evaluation purposes\n",
    "\n",
    "### Supplied Files\n",
    "- genome_scores.csv - a score mapping the strength between movies and tag-related properties. Read more here\n",
    "- genome_tags.csv - user assigned tags for genome-related scores\n",
    "- imdb_data.csv - Additional movie metadata scraped from IMDB using the links.csv file.\n",
    "- links.csv - File providing a mapping between a MovieLens ID and associated IMDB and TMDB IDs.\n",
    "- sample_submission.csv - Sample of the submission format for the hackathon.\n",
    "- tags.csv - User assigned for the movies within the dataset.\n",
    "- test.csv - The test split of the dataset. Contains user and movie IDs with no rating data.\n",
    "- train.csv - The training split of the dataset. Contains user and movie IDs with associated rating data\n",
    "\n",
    "### Additional Information\n",
    "- The below information is provided directly from the MovieLens dataset description files:\n",
    "\n",
    "### Ratings Data File Structure (train.csv)\n",
    "- All ratings are contained in the file train.csv. Each line of this file after the header row represents one rating of one movie by one user, and has the following format:\n",
    "\n",
    "    - userId\n",
    "    - movieId\n",
    "    - rating\n",
    "    - timestamp\n",
    "\n",
    "- The lines within this file are ordered first by userId, then, within user, by movieId.\n",
    "\n",
    "- Ratings are made on a 5-star scale, with half-star increments (0.5 stars - 5.0 stars).\n",
    "\n",
    "- Timestamps represent seconds since midnight Coordinated Universal Time (UTC) of January 1, 1970.\n",
    "\n",
    "### Tags Data File Structure (tags.csv)\n",
    "- All tags are contained in the file tags.csv. Each line of this file after the header row represents one tag applied to one movie by one user, and has the following format:\n",
    "\n",
    "    - userId\n",
    "    - movieId\n",
    "    - tag\n",
    "    - timestamp\n",
    "- The lines within this file are ordered first by userId, then, within user, by movieId.\n",
    "\n",
    "- Tags are user-generated metadata about movies. Each tag is typically a single word or short phrase. The meaning, value, and purpose of a particular tag is determined by each user.\n",
    "\n",
    "- Timestamps represent seconds since midnight Coordinated Universal Time (UTC) of January 1, 1970\n",
    "\n",
    "### Movies Data File Structure (movies.csv)\n",
    "- Movie information is contained in the file movies.csv. Each line of this file after the header row represents one movie, and has the following format:\n",
    "    - movieId\n",
    "    - title\n",
    "    - genres\n",
    "\n",
    "- Genres are a pipe-separated list, and are selected from the following:\n",
    "    - Action\n",
    "    - Adventure\n",
    "    - Animation\n",
    "    - Children's\n",
    "    - Comedy\n",
    "    - Crime\n",
    "    - Documentary\n",
    "    - Drama\n",
    "    - Fantasy\n",
    "    - Film-Noir\n",
    "    - Horror\n",
    "    - Musical\n",
    "    - Mystery\n",
    "    - Romance\n",
    "    - Sci-Fi\n",
    "    - Thriller\n",
    "    - War\n",
    "    - Western\n",
    "    (no genres listed)\n",
    "\n",
    "### Links Data File Structure (links.csv)\n",
    "- Identifiers that can be used to link to other sources of movie data are contained in the file links.csv. Each line of this file after the header row represents one movie, and has the following format:\n",
    "    - movieId\n",
    "    - imdbId\n",
    "    - tmdbId\n",
    "- movieId is an identifier for movies used by https://movielens.org. E.g., the movie Toy Story has the link https://movielens.org/movies/1.\n",
    "\n",
    "- imdbId is an identifier for movies used by http://www.imdb.com. E.g., the movie Toy Story has the link http://www.imdb.com/title/tt0114709/.\n",
    "\n",
    "- tmdbId is an identifier for movies used by https://www.themoviedb.org. E.g., the movie Toy Story has the link https://www.themoviedb.org/movie/862.\n",
    "\n",
    "- Use of the resources listed above is subject to the terms of each provider.\n",
    "\n",
    "### Tag Genome (genome-scores.csv and genome-tags.csv)\n",
    "- As described in this article, the tag genome encodes how strongly movies exhibit particular properties represented by tags (atmospheric, thought-provoking, realistic, etc.). The tag genome was computed using a machine learning algorithm on user-contributed content including tags, ratings, and textual reviews.\n",
    "\n",
    "- The genome is split into two files. The file genome-scores.csv contains movie-tag relevance data in the following format:\n",
    "\n",
    "    - movieId\n",
    "    - tagId\n",
    "    - relevance\n",
    "\n",
    "- The second file, genome-tags.csv, provides the tag descriptions for the tag IDs in the genome file, in the following format:\n",
    "    - tagId\n",
    "    - tag"
   ],
   "cell_type": "markdown",
   "metadata": {}
  },
  {
   "cell_type": "code",
   "execution_count": null,
   "metadata": {},
   "outputs": [],
   "source": []
  }
 ]
}